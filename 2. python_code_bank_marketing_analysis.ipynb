{
 "cells": [
  {
   "cell_type": "markdown",
   "metadata": {},
   "source": [
    "Bank Marketing Analysis Report \n",
    "\n",
    "Griffith Univesity\n",
    "\n",
    "Gabriela Almeida Monteiro - s5198626 \n",
    "\n",
    "Jason Dias - s5216366\n",
    "\n",
    "Julio Pimentel Albores – s5172620 "
   ]
  },
  {
   "cell_type": "markdown",
   "metadata": {},
   "source": [
    "# Data exploration"
   ]
  },
  {
   "cell_type": "code",
   "execution_count": 2,
   "metadata": {},
   "outputs": [],
   "source": [
    "import pandas as pd\n",
    "import numpy as np\n",
    "import matplotlib.pyplot as plt\n",
    "import seaborn as sns\n",
    "\n",
    "from sklearn import datasets, model_selection, linear_model, metrics\n",
    "from collections import Counter\n",
    "from imblearn.under_sampling import NearMiss\n"
   ]
  },
  {
   "cell_type": "code",
   "execution_count": 3,
   "metadata": {},
   "outputs": [
    {
     "data": {
      "text/html": [
       "<div>\n",
       "<style scoped>\n",
       "    .dataframe tbody tr th:only-of-type {\n",
       "        vertical-align: middle;\n",
       "    }\n",
       "\n",
       "    .dataframe tbody tr th {\n",
       "        vertical-align: top;\n",
       "    }\n",
       "\n",
       "    .dataframe thead th {\n",
       "        text-align: right;\n",
       "    }\n",
       "</style>\n",
       "<table border=\"1\" class=\"dataframe\">\n",
       "  <thead>\n",
       "    <tr style=\"text-align: right;\">\n",
       "      <th></th>\n",
       "      <th>age</th>\n",
       "      <th>job</th>\n",
       "      <th>marital</th>\n",
       "      <th>education</th>\n",
       "      <th>default</th>\n",
       "      <th>balance</th>\n",
       "      <th>housing</th>\n",
       "      <th>loan</th>\n",
       "      <th>contact</th>\n",
       "      <th>day</th>\n",
       "      <th>month</th>\n",
       "      <th>duration</th>\n",
       "      <th>campaign</th>\n",
       "      <th>pdays</th>\n",
       "      <th>previous</th>\n",
       "      <th>poutcome</th>\n",
       "      <th>y</th>\n",
       "    </tr>\n",
       "  </thead>\n",
       "  <tbody>\n",
       "    <tr>\n",
       "      <th>0</th>\n",
       "      <td>58</td>\n",
       "      <td>management</td>\n",
       "      <td>married</td>\n",
       "      <td>tertiary</td>\n",
       "      <td>no</td>\n",
       "      <td>2143</td>\n",
       "      <td>yes</td>\n",
       "      <td>no</td>\n",
       "      <td>unknown</td>\n",
       "      <td>5</td>\n",
       "      <td>may</td>\n",
       "      <td>261</td>\n",
       "      <td>1</td>\n",
       "      <td>-1</td>\n",
       "      <td>0</td>\n",
       "      <td>unknown</td>\n",
       "      <td>no</td>\n",
       "    </tr>\n",
       "    <tr>\n",
       "      <th>1</th>\n",
       "      <td>44</td>\n",
       "      <td>technician</td>\n",
       "      <td>single</td>\n",
       "      <td>secondary</td>\n",
       "      <td>no</td>\n",
       "      <td>29</td>\n",
       "      <td>yes</td>\n",
       "      <td>no</td>\n",
       "      <td>unknown</td>\n",
       "      <td>5</td>\n",
       "      <td>may</td>\n",
       "      <td>151</td>\n",
       "      <td>1</td>\n",
       "      <td>-1</td>\n",
       "      <td>0</td>\n",
       "      <td>unknown</td>\n",
       "      <td>no</td>\n",
       "    </tr>\n",
       "    <tr>\n",
       "      <th>2</th>\n",
       "      <td>33</td>\n",
       "      <td>entrepreneur</td>\n",
       "      <td>married</td>\n",
       "      <td>secondary</td>\n",
       "      <td>no</td>\n",
       "      <td>2</td>\n",
       "      <td>yes</td>\n",
       "      <td>yes</td>\n",
       "      <td>unknown</td>\n",
       "      <td>5</td>\n",
       "      <td>may</td>\n",
       "      <td>76</td>\n",
       "      <td>1</td>\n",
       "      <td>-1</td>\n",
       "      <td>0</td>\n",
       "      <td>unknown</td>\n",
       "      <td>no</td>\n",
       "    </tr>\n",
       "    <tr>\n",
       "      <th>3</th>\n",
       "      <td>47</td>\n",
       "      <td>blue-collar</td>\n",
       "      <td>married</td>\n",
       "      <td>unknown</td>\n",
       "      <td>no</td>\n",
       "      <td>1506</td>\n",
       "      <td>yes</td>\n",
       "      <td>no</td>\n",
       "      <td>unknown</td>\n",
       "      <td>5</td>\n",
       "      <td>may</td>\n",
       "      <td>92</td>\n",
       "      <td>1</td>\n",
       "      <td>-1</td>\n",
       "      <td>0</td>\n",
       "      <td>unknown</td>\n",
       "      <td>no</td>\n",
       "    </tr>\n",
       "    <tr>\n",
       "      <th>4</th>\n",
       "      <td>33</td>\n",
       "      <td>unknown</td>\n",
       "      <td>single</td>\n",
       "      <td>unknown</td>\n",
       "      <td>no</td>\n",
       "      <td>1</td>\n",
       "      <td>no</td>\n",
       "      <td>no</td>\n",
       "      <td>unknown</td>\n",
       "      <td>5</td>\n",
       "      <td>may</td>\n",
       "      <td>198</td>\n",
       "      <td>1</td>\n",
       "      <td>-1</td>\n",
       "      <td>0</td>\n",
       "      <td>unknown</td>\n",
       "      <td>no</td>\n",
       "    </tr>\n",
       "  </tbody>\n",
       "</table>\n",
       "</div>"
      ],
      "text/plain": [
       "   age           job  marital  education default  balance housing loan  \\\n",
       "0   58    management  married   tertiary      no     2143     yes   no   \n",
       "1   44    technician   single  secondary      no       29     yes   no   \n",
       "2   33  entrepreneur  married  secondary      no        2     yes  yes   \n",
       "3   47   blue-collar  married    unknown      no     1506     yes   no   \n",
       "4   33       unknown   single    unknown      no        1      no   no   \n",
       "\n",
       "   contact  day month  duration  campaign  pdays  previous poutcome   y  \n",
       "0  unknown    5   may       261         1     -1         0  unknown  no  \n",
       "1  unknown    5   may       151         1     -1         0  unknown  no  \n",
       "2  unknown    5   may        76         1     -1         0  unknown  no  \n",
       "3  unknown    5   may        92         1     -1         0  unknown  no  \n",
       "4  unknown    5   may       198         1     -1         0  unknown  no  "
      ]
     },
     "execution_count": 3,
     "metadata": {},
     "output_type": "execute_result"
    }
   ],
   "source": [
    "#Read bank-full.csv file \n",
    "df = pd.read_csv('bank-full.csv',sep=';')\n",
    "df.head()"
   ]
  },
  {
   "cell_type": "markdown",
   "metadata": {},
   "source": [
    "# 1. Data Exploration "
   ]
  },
  {
   "cell_type": "code",
   "execution_count": 4,
   "metadata": {},
   "outputs": [
    {
     "name": "stdout",
     "output_type": "stream",
     "text": [
      "<class 'pandas.core.frame.DataFrame'>\n",
      "RangeIndex: 45211 entries, 0 to 45210\n",
      "Data columns (total 17 columns):\n",
      " #   Column     Non-Null Count  Dtype \n",
      "---  ------     --------------  ----- \n",
      " 0   age        45211 non-null  int64 \n",
      " 1   job        45211 non-null  object\n",
      " 2   marital    45211 non-null  object\n",
      " 3   education  45211 non-null  object\n",
      " 4   default    45211 non-null  object\n",
      " 5   balance    45211 non-null  int64 \n",
      " 6   housing    45211 non-null  object\n",
      " 7   loan       45211 non-null  object\n",
      " 8   contact    45211 non-null  object\n",
      " 9   day        45211 non-null  int64 \n",
      " 10  month      45211 non-null  object\n",
      " 11  duration   45211 non-null  int64 \n",
      " 12  campaign   45211 non-null  int64 \n",
      " 13  pdays      45211 non-null  int64 \n",
      " 14  previous   45211 non-null  int64 \n",
      " 15  poutcome   45211 non-null  object\n",
      " 16  y          45211 non-null  object\n",
      "dtypes: int64(7), object(10)\n",
      "memory usage: 5.9+ MB\n",
      "None\n"
     ]
    }
   ],
   "source": [
    "#Data type and null values for each column\n",
    "print(df.info())"
   ]
  },
  {
   "cell_type": "code",
   "execution_count": 5,
   "metadata": {},
   "outputs": [
    {
     "data": {
      "text/html": [
       "<div>\n",
       "<style scoped>\n",
       "    .dataframe tbody tr th:only-of-type {\n",
       "        vertical-align: middle;\n",
       "    }\n",
       "\n",
       "    .dataframe tbody tr th {\n",
       "        vertical-align: top;\n",
       "    }\n",
       "\n",
       "    .dataframe thead th {\n",
       "        text-align: right;\n",
       "    }\n",
       "</style>\n",
       "<table border=\"1\" class=\"dataframe\">\n",
       "  <thead>\n",
       "    <tr style=\"text-align: right;\">\n",
       "      <th></th>\n",
       "      <th>age</th>\n",
       "      <th>job</th>\n",
       "      <th>marital</th>\n",
       "      <th>education</th>\n",
       "      <th>default</th>\n",
       "      <th>balance</th>\n",
       "      <th>housing</th>\n",
       "      <th>loan</th>\n",
       "      <th>contact</th>\n",
       "      <th>day</th>\n",
       "      <th>month</th>\n",
       "      <th>duration</th>\n",
       "      <th>campaign</th>\n",
       "      <th>pdays</th>\n",
       "      <th>previous</th>\n",
       "      <th>poutcome</th>\n",
       "      <th>y</th>\n",
       "    </tr>\n",
       "  </thead>\n",
       "  <tbody>\n",
       "    <tr>\n",
       "      <th>0</th>\n",
       "      <td>58</td>\n",
       "      <td>management</td>\n",
       "      <td>married</td>\n",
       "      <td>tertiary</td>\n",
       "      <td>no</td>\n",
       "      <td>2143</td>\n",
       "      <td>yes</td>\n",
       "      <td>no</td>\n",
       "      <td>unknown</td>\n",
       "      <td>5</td>\n",
       "      <td>may</td>\n",
       "      <td>261</td>\n",
       "      <td>1</td>\n",
       "      <td>-1</td>\n",
       "      <td>0</td>\n",
       "      <td>unknown</td>\n",
       "      <td>no</td>\n",
       "    </tr>\n",
       "    <tr>\n",
       "      <th>1</th>\n",
       "      <td>44</td>\n",
       "      <td>technician</td>\n",
       "      <td>single</td>\n",
       "      <td>secondary</td>\n",
       "      <td>no</td>\n",
       "      <td>29</td>\n",
       "      <td>yes</td>\n",
       "      <td>no</td>\n",
       "      <td>unknown</td>\n",
       "      <td>5</td>\n",
       "      <td>may</td>\n",
       "      <td>151</td>\n",
       "      <td>1</td>\n",
       "      <td>-1</td>\n",
       "      <td>0</td>\n",
       "      <td>unknown</td>\n",
       "      <td>no</td>\n",
       "    </tr>\n",
       "    <tr>\n",
       "      <th>2</th>\n",
       "      <td>33</td>\n",
       "      <td>entrepreneur</td>\n",
       "      <td>married</td>\n",
       "      <td>secondary</td>\n",
       "      <td>no</td>\n",
       "      <td>2</td>\n",
       "      <td>yes</td>\n",
       "      <td>yes</td>\n",
       "      <td>unknown</td>\n",
       "      <td>5</td>\n",
       "      <td>may</td>\n",
       "      <td>76</td>\n",
       "      <td>1</td>\n",
       "      <td>-1</td>\n",
       "      <td>0</td>\n",
       "      <td>unknown</td>\n",
       "      <td>no</td>\n",
       "    </tr>\n",
       "    <tr>\n",
       "      <th>3</th>\n",
       "      <td>47</td>\n",
       "      <td>blue-collar</td>\n",
       "      <td>married</td>\n",
       "      <td>unknown</td>\n",
       "      <td>no</td>\n",
       "      <td>1506</td>\n",
       "      <td>yes</td>\n",
       "      <td>no</td>\n",
       "      <td>unknown</td>\n",
       "      <td>5</td>\n",
       "      <td>may</td>\n",
       "      <td>92</td>\n",
       "      <td>1</td>\n",
       "      <td>-1</td>\n",
       "      <td>0</td>\n",
       "      <td>unknown</td>\n",
       "      <td>no</td>\n",
       "    </tr>\n",
       "    <tr>\n",
       "      <th>4</th>\n",
       "      <td>33</td>\n",
       "      <td>unknown</td>\n",
       "      <td>single</td>\n",
       "      <td>unknown</td>\n",
       "      <td>no</td>\n",
       "      <td>1</td>\n",
       "      <td>no</td>\n",
       "      <td>no</td>\n",
       "      <td>unknown</td>\n",
       "      <td>5</td>\n",
       "      <td>may</td>\n",
       "      <td>198</td>\n",
       "      <td>1</td>\n",
       "      <td>-1</td>\n",
       "      <td>0</td>\n",
       "      <td>unknown</td>\n",
       "      <td>no</td>\n",
       "    </tr>\n",
       "  </tbody>\n",
       "</table>\n",
       "</div>"
      ],
      "text/plain": [
       "   age           job  marital  education default  balance housing loan  \\\n",
       "0   58    management  married   tertiary      no     2143     yes   no   \n",
       "1   44    technician   single  secondary      no       29     yes   no   \n",
       "2   33  entrepreneur  married  secondary      no        2     yes  yes   \n",
       "3   47   blue-collar  married    unknown      no     1506     yes   no   \n",
       "4   33       unknown   single    unknown      no        1      no   no   \n",
       "\n",
       "   contact  day month  duration  campaign  pdays  previous poutcome   y  \n",
       "0  unknown    5   may       261         1     -1         0  unknown  no  \n",
       "1  unknown    5   may       151         1     -1         0  unknown  no  \n",
       "2  unknown    5   may        76         1     -1         0  unknown  no  \n",
       "3  unknown    5   may        92         1     -1         0  unknown  no  \n",
       "4  unknown    5   may       198         1     -1         0  unknown  no  "
      ]
     },
     "execution_count": 5,
     "metadata": {},
     "output_type": "execute_result"
    }
   ],
   "source": [
    "#Review the first 5 values \n",
    "df.head()"
   ]
  },
  {
   "cell_type": "code",
   "execution_count": 61,
   "metadata": {},
   "outputs": [
    {
     "data": {
      "text/plain": [
       "<seaborn.axisgrid.PairGrid at 0x1a3b1e56e88>"
      ]
     },
     "execution_count": 61,
     "metadata": {},
     "output_type": "execute_result"
    },
    {
     "data": {
      "image/png": "[encoded data removed]",
      "text/plain": [
       "<Figure size 1313.25x1260 with 35 Axes>"
      ]
     },
     "metadata": {
      "needs_background": "light"
     },
     "output_type": "display_data"
    }
   ],
   "source": [
    "# #Plot numerical values \n",
    "sns.pairplot(df,hue='y',corner=True)"
   ]
  },
  {
   "cell_type": "code",
   "execution_count": 7,
   "metadata": {},
   "outputs": [
    {
     "data": {
      "text/html": [
       "<div>\n",
       "<style scoped>\n",
       "    .dataframe tbody tr th:only-of-type {\n",
       "        vertical-align: middle;\n",
       "    }\n",
       "\n",
       "    .dataframe tbody tr th {\n",
       "        vertical-align: top;\n",
       "    }\n",
       "\n",
       "    .dataframe thead th {\n",
       "        text-align: right;\n",
       "    }\n",
       "</style>\n",
       "<table border=\"1\" class=\"dataframe\">\n",
       "  <thead>\n",
       "    <tr style=\"text-align: right;\">\n",
       "      <th></th>\n",
       "      <th>age</th>\n",
       "      <th>balance</th>\n",
       "      <th>day</th>\n",
       "      <th>duration</th>\n",
       "      <th>campaign</th>\n",
       "      <th>pdays</th>\n",
       "      <th>previous</th>\n",
       "    </tr>\n",
       "  </thead>\n",
       "  <tbody>\n",
       "    <tr>\n",
       "      <th>count</th>\n",
       "      <td>45211.000000</td>\n",
       "      <td>45211.000000</td>\n",
       "      <td>45211.000000</td>\n",
       "      <td>45211.000000</td>\n",
       "      <td>45211.000000</td>\n",
       "      <td>45211.000000</td>\n",
       "      <td>45211.000000</td>\n",
       "    </tr>\n",
       "    <tr>\n",
       "      <th>mean</th>\n",
       "      <td>40.936210</td>\n",
       "      <td>1362.272058</td>\n",
       "      <td>15.806419</td>\n",
       "      <td>258.163080</td>\n",
       "      <td>2.763841</td>\n",
       "      <td>40.197828</td>\n",
       "      <td>0.580323</td>\n",
       "    </tr>\n",
       "    <tr>\n",
       "      <th>std</th>\n",
       "      <td>10.618762</td>\n",
       "      <td>3044.765829</td>\n",
       "      <td>8.322476</td>\n",
       "      <td>257.527812</td>\n",
       "      <td>3.098021</td>\n",
       "      <td>100.128746</td>\n",
       "      <td>2.303441</td>\n",
       "    </tr>\n",
       "    <tr>\n",
       "      <th>min</th>\n",
       "      <td>18.000000</td>\n",
       "      <td>-8019.000000</td>\n",
       "      <td>1.000000</td>\n",
       "      <td>0.000000</td>\n",
       "      <td>1.000000</td>\n",
       "      <td>-1.000000</td>\n",
       "      <td>0.000000</td>\n",
       "    </tr>\n",
       "    <tr>\n",
       "      <th>25%</th>\n",
       "      <td>33.000000</td>\n",
       "      <td>72.000000</td>\n",
       "      <td>8.000000</td>\n",
       "      <td>103.000000</td>\n",
       "      <td>1.000000</td>\n",
       "      <td>-1.000000</td>\n",
       "      <td>0.000000</td>\n",
       "    </tr>\n",
       "    <tr>\n",
       "      <th>50%</th>\n",
       "      <td>39.000000</td>\n",
       "      <td>448.000000</td>\n",
       "      <td>16.000000</td>\n",
       "      <td>180.000000</td>\n",
       "      <td>2.000000</td>\n",
       "      <td>-1.000000</td>\n",
       "      <td>0.000000</td>\n",
       "    </tr>\n",
       "    <tr>\n",
       "      <th>75%</th>\n",
       "      <td>48.000000</td>\n",
       "      <td>1428.000000</td>\n",
       "      <td>21.000000</td>\n",
       "      <td>319.000000</td>\n",
       "      <td>3.000000</td>\n",
       "      <td>-1.000000</td>\n",
       "      <td>0.000000</td>\n",
       "    </tr>\n",
       "    <tr>\n",
       "      <th>max</th>\n",
       "      <td>95.000000</td>\n",
       "      <td>102127.000000</td>\n",
       "      <td>31.000000</td>\n",
       "      <td>4918.000000</td>\n",
       "      <td>63.000000</td>\n",
       "      <td>871.000000</td>\n",
       "      <td>275.000000</td>\n",
       "    </tr>\n",
       "  </tbody>\n",
       "</table>\n",
       "</div>"
      ],
      "text/plain": [
       "                age        balance           day      duration      campaign  \\\n",
       "count  45211.000000   45211.000000  45211.000000  45211.000000  45211.000000   \n",
       "mean      40.936210    1362.272058     15.806419    258.163080      2.763841   \n",
       "std       10.618762    3044.765829      8.322476    257.527812      3.098021   \n",
       "min       18.000000   -8019.000000      1.000000      0.000000      1.000000   \n",
       "25%       33.000000      72.000000      8.000000    103.000000      1.000000   \n",
       "50%       39.000000     448.000000     16.000000    180.000000      2.000000   \n",
       "75%       48.000000    1428.000000     21.000000    319.000000      3.000000   \n",
       "max       95.000000  102127.000000     31.000000   4918.000000     63.000000   \n",
       "\n",
       "              pdays      previous  \n",
       "count  45211.000000  45211.000000  \n",
       "mean      40.197828      0.580323  \n",
       "std      100.128746      2.303441  \n",
       "min       -1.000000      0.000000  \n",
       "25%       -1.000000      0.000000  \n",
       "50%       -1.000000      0.000000  \n",
       "75%       -1.000000      0.000000  \n",
       "max      871.000000    275.000000  "
      ]
     },
     "execution_count": 7,
     "metadata": {},
     "output_type": "execute_result"
    }
   ],
   "source": [
    "#Statistical information from numerical columns \n",
    "df.describe()"
   ]
  },
  {
   "cell_type": "markdown",
   "metadata": {},
   "source": [
    "Check unique values of object columns. Define if some of the columns will be transformed using one hot encoder. "
   ]
  },
  {
   "cell_type": "code",
   "execution_count": 8,
   "metadata": {
    "scrolled": true
   },
   "outputs": [
    {
     "name": "stdout",
     "output_type": "stream",
     "text": [
      "Column 1 (job) unique values:\n",
      "blue-collar      9732\n",
      "management       9458\n",
      "technician       7597\n",
      "admin.           5171\n",
      "services         4154\n",
      "retired          2264\n",
      "self-employed    1579\n",
      "entrepreneur     1487\n",
      "unemployed       1303\n",
      "housemaid        1240\n",
      "student           938\n",
      "unknown           288\n",
      "Name: job, dtype: int64\n",
      "\n",
      "Column 2 (marital) unique values:\n",
      "married     27214\n",
      "single      12790\n",
      "divorced     5207\n",
      "Name: marital, dtype: int64\n",
      "\n",
      "Column 3 (education) unique values:\n",
      "secondary    23202\n",
      "tertiary     13301\n",
      "primary       6851\n",
      "unknown       1857\n",
      "Name: education, dtype: int64\n",
      "\n",
      "Column 4 (default) unique values:\n",
      "no     44396\n",
      "yes      815\n",
      "Name: default, dtype: int64\n",
      "\n",
      "Column 6 (housing) unique values:\n",
      "yes    25130\n",
      "no     20081\n",
      "Name: housing, dtype: int64\n",
      "\n",
      "Column 7 (loan) unique values:\n",
      "no     37967\n",
      "yes     7244\n",
      "Name: loan, dtype: int64\n",
      "\n",
      "Column 8 (contact) unique values:\n",
      "cellular     29285\n",
      "unknown      13020\n",
      "telephone     2906\n",
      "Name: contact, dtype: int64\n",
      "\n",
      "Column 10 (month) unique values:\n",
      "may    13766\n",
      "jul     6895\n",
      "aug     6247\n",
      "jun     5341\n",
      "nov     3970\n",
      "apr     2932\n",
      "feb     2649\n",
      "jan     1403\n",
      "oct      738\n",
      "sep      579\n",
      "mar      477\n",
      "dec      214\n",
      "Name: month, dtype: int64\n",
      "\n",
      "Column 15 (poutcome) unique values:\n",
      "unknown    36959\n",
      "failure     4901\n",
      "other       1840\n",
      "success     1511\n",
      "Name: poutcome, dtype: int64\n",
      "\n",
      "Column 16 (y) unique values:\n",
      "no     39922\n",
      "yes     5289\n",
      "Name: y, dtype: int64\n"
     ]
    }
   ],
   "source": [
    "#multilabel\n",
    "col=1\n",
    "print('Column {} ({}) unique values:'.format(col,df.columns[col]))\n",
    "print(df.iloc[:,col].value_counts())\n",
    "\n",
    "#3 labels\n",
    "col=2\n",
    "print('\\nColumn {} ({}) unique values:'.format(col,df.columns[col]))\n",
    "print(df.iloc[:,col].value_counts())\n",
    "\n",
    "#multilabel\n",
    "col=3\n",
    "print('\\nColumn {} ({}) unique values:'.format(col,df.columns[col]))\n",
    "print(df.iloc[:,col].value_counts())\n",
    "\n",
    "#2 labels\n",
    "col=4\n",
    "print('\\nColumn {} ({}) unique values:'.format(col,df.columns[col]))\n",
    "print(df.iloc[:,col].value_counts())\n",
    "\n",
    "#2 labels\n",
    "col=6\n",
    "print('\\nColumn {} ({}) unique values:'.format(col,df.columns[col]))\n",
    "print(df.iloc[:,col].value_counts())\n",
    "\n",
    "#2 labels\n",
    "col=7\n",
    "print('\\nColumn {} ({}) unique values:'.format(col,df.columns[col]))\n",
    "print(df.iloc[:,col].value_counts())\n",
    "\n",
    "#3 labels\n",
    "col=8\n",
    "print('\\nColumn {} ({}) unique values:'.format(col,df.columns[col]))\n",
    "print(df.iloc[:,col].value_counts())\n",
    "\n",
    "#months in text - 12 labels\n",
    "col=10\n",
    "print('\\nColumn {} ({}) unique values:'.format(col,df.columns[col]))\n",
    "print(df.iloc[:,col].value_counts())\n",
    "\n",
    "#multilabel\n",
    "col=15\n",
    "print('\\nColumn {} ({}) unique values:'.format(col,df.columns[col]))\n",
    "print(df.iloc[:,col].value_counts())\n",
    "\n",
    "#multilabel\n",
    "col=16\n",
    "print('\\nColumn {} ({}) unique values:'.format(col,df.columns[col]))\n",
    "print(df.iloc[:,col].value_counts())\n"
   ]
  },
  {
   "cell_type": "code",
   "execution_count": 9,
   "metadata": {
    "scrolled": true
   },
   "outputs": [
    {
     "data": {
      "image/png": "[encoded data removed]",
      "text/plain": [
       "<Figure size 1080x1512 with 6 Axes>"
      ]
     },
     "metadata": {
      "needs_background": "light"
     },
     "output_type": "display_data"
    }
   ],
   "source": [
    "fig, axs = plt.subplots(nrows=3, ncols=2, figsize = (15,21))\n",
    "plt.subplots_adjust(wspace=0.2, hspace=0.2)\n",
    "\n",
    "col=1\n",
    "df[df.columns[col]].value_counts().sort_values().plot(kind='barh',title='Variable \"'+df.columns[col]+'\"', ax = axs[0,0])\n",
    "\n",
    "col=2\n",
    "df[df.columns[col]].value_counts().sort_values().plot(kind='barh',title='Variable \"'+df.columns[col]+'\"', ax = axs[1,0])\n",
    "\n",
    "col=3\n",
    "df[df.columns[col]].value_counts().sort_values().plot(kind='barh',title='Variable \"'+df.columns[col]+'\"', ax = axs[2,0])\n",
    "\n",
    "col=7\n",
    "df[df.columns[col]].value_counts().sort_values().plot(kind='barh',title='Variable \"'+df.columns[col]+'\"', ax = axs[2,1])\n",
    "\n",
    "col=8\n",
    "df[df.columns[col]].value_counts().sort_values().plot(kind='barh',title='Variable \"'+df.columns[col]+'\"', ax = axs[1,1])\n",
    "\n",
    "col=10\n",
    "df[df.columns[col]].value_counts().sort_values().plot(kind='barh',title='Variable \"'+df.columns[col]+'\"', ax = axs[0,1])\n",
    "\n",
    "plt.show()\n"
   ]
  },
  {
   "cell_type": "code",
   "execution_count": 10,
   "metadata": {
    "scrolled": true
   },
   "outputs": [
    {
     "data": {
      "image/png": "[encoded data removed]",
      "text/plain": [
       "<Figure size 1080x1008 with 4 Axes>"
      ]
     },
     "metadata": {
      "needs_background": "light"
     },
     "output_type": "display_data"
    }
   ],
   "source": [
    "fig, axs = plt.subplots(nrows=2, ncols=2, figsize = (15,14))\n",
    "plt.subplots_adjust(wspace=0.2, hspace=0.2)\n",
    "\n",
    "\n",
    "col=4\n",
    "df[df.columns[col]].value_counts().sort_values().plot(kind='barh',title='Variable \"'+df.columns[col]+'\"', ax = axs[0,0])\n",
    "\n",
    "col=6\n",
    "df[df.columns[col]].value_counts().sort_values().plot(kind='barh',title='Variable \"'+df.columns[col]+'\"', ax = axs[1,0])\n",
    "\n",
    "col=15\n",
    "df[df.columns[col]].value_counts().sort_values().plot(kind='barh',title='Variable \"'+df.columns[col]+'\"', ax = axs[0,1])\n",
    "\n",
    "col=16\n",
    "df[df.columns[col]].value_counts().sort_values().plot(kind='barh',title='Variable \"'+df.columns[col]+'\"', ax = axs[1,1])\n",
    "\n",
    "plt.show()"
   ]
  },
  {
   "cell_type": "code",
   "execution_count": 11,
   "metadata": {},
   "outputs": [
    {
     "data": {
      "text/plain": [
       "<matplotlib.axes._subplots.AxesSubplot at 0x1a3b1f92708>"
      ]
     },
     "execution_count": 11,
     "metadata": {},
     "output_type": "execute_result"
    },
    {
     "data": {
      "image/png": "[encoded data removed]",
      "text/plain": [
       "<Figure size 432x288 with 1 Axes>"
      ]
     },
     "metadata": {
      "needs_background": "light"
     },
     "output_type": "display_data"
    }
   ],
   "source": [
    "df['y'].value_counts().plot(kind = 'bar')"
   ]
  },
  {
   "cell_type": "code",
   "execution_count": 12,
   "metadata": {},
   "outputs": [
    {
     "data": {
      "text/plain": [
       "no     39922\n",
       "yes     5289\n",
       "Name: y, dtype: int64"
      ]
     },
     "execution_count": 12,
     "metadata": {},
     "output_type": "execute_result"
    }
   ],
   "source": [
    "# This data set contains an imbalanced target variable.\n",
    "df['y'].value_counts()"
   ]
  },
  {
   "cell_type": "markdown",
   "metadata": {},
   "source": [
    "Analyse different variables to find a specific category has more chances of getting a term deposit. "
   ]
  },
  {
   "cell_type": "markdown",
   "metadata": {},
   "source": [
    "Positive values imply this category favors clients that will subscribe and negative values categories that favour not buying"
   ]
  },
  {
   "cell_type": "markdown",
   "metadata": {},
   "source": [
    "## 1.1 Job sector variable"
   ]
  },
  {
   "cell_type": "code",
   "execution_count": 13,
   "metadata": {},
   "outputs": [
    {
     "data": {
      "image/png": "[encoded data removed]",
      "text/plain": [
       "<Figure size 432x288 with 1 Axes>"
      ]
     },
     "metadata": {
      "needs_background": "light"
     },
     "output_type": "display_data"
    }
   ],
   "source": [
    "feature_name=\"job\"\n",
    "pos_count = df.loc[df.y.values == 'yes', feature_name].value_counts()\n",
    "neg_count = df.loc[df.y.values == 'no', feature_name].value_counts()\n",
    "\n",
    "all_counts = list(set(list(pos_count.index) + list(neg_count.index)))\n",
    "\n",
    "#Count of how often each outcome was recorded\n",
    "freq_pos = (df.y.values == 'yes').sum()\n",
    "freq_neg = (df.y.values =='no').sum()\n",
    "\n",
    "pos_counts = pos_count.to_dict()\n",
    "neg_counts = neg_count.to_dict()\n",
    "all_index= list(all_counts)\n",
    "\n",
    "all_counts = [pos_counts.get(k,0) / freq_pos - neg_counts.get(k,0) / freq_neg for k in all_counts]\n",
    "\n",
    "sns.barplot(all_counts, all_index)\n",
    "plt.title(feature_name)\n",
    "plt.tight_layout()"
   ]
  },
  {
   "cell_type": "markdown",
   "metadata": {},
   "source": [
    "Blue-collar jobs are less likely to get a term deposit. Meanwhile, retired, management and student jobs are more likely to get a term deposit. "
   ]
  },
  {
   "cell_type": "markdown",
   "metadata": {},
   "source": [
    "## 1.2 Marital status variable"
   ]
  },
  {
   "cell_type": "code",
   "execution_count": 14,
   "metadata": {},
   "outputs": [
    {
     "data": {
      "image/png": "[encoded data removed]",
      "text/plain": [
       "<Figure size 432x288 with 1 Axes>"
      ]
     },
     "metadata": {
      "needs_background": "light"
     },
     "output_type": "display_data"
    }
   ],
   "source": [
    "feature_name=\"marital\"\n",
    "pos_count = df.loc[df.y.values == 'yes', feature_name].value_counts()\n",
    "neg_count = df.loc[df.y.values == 'no', feature_name].value_counts()\n",
    "\n",
    "all_counts = list(set(list(pos_count.index) + list(neg_count.index)))\n",
    "\n",
    "#Count of how often each outcome was recorded\n",
    "freq_pos = (df.y.values == 'yes').sum()\n",
    "freq_neg = (df.y.values =='no').sum()\n",
    "\n",
    "pos_counts = pos_count.to_dict()\n",
    "neg_counts = neg_count.to_dict()\n",
    "all_index= list(all_counts)\n",
    "\n",
    "all_counts = [pos_counts.get(k,0) / freq_pos - neg_counts.get(k,0) / freq_neg for k in all_counts]\n",
    "\n",
    "sns.barplot(all_counts, all_index)\n",
    "plt.title(feature_name)\n",
    "plt.tight_layout()"
   ]
  },
  {
   "cell_type": "markdown",
   "metadata": {},
   "source": [
    "Here we can see that customers who are single are mostly likely in accepting term deposits\n"
   ]
  },
  {
   "cell_type": "markdown",
   "metadata": {},
   "source": [
    "## 1.3 Previous loan variable"
   ]
  },
  {
   "cell_type": "code",
   "execution_count": 15,
   "metadata": {},
   "outputs": [
    {
     "data": {
      "image/png": "[encoded data removed]",
      "text/plain": [
       "<Figure size 432x288 with 1 Axes>"
      ]
     },
     "metadata": {
      "needs_background": "light"
     },
     "output_type": "display_data"
    }
   ],
   "source": [
    "feature_name=\"loan\"\n",
    "pos_count = df.loc[df.y.values == 'yes', feature_name].value_counts()\n",
    "neg_count = df.loc[df.y.values == 'no', feature_name].value_counts()\n",
    "\n",
    "all_counts = list(set(list(pos_count.index) + list(neg_count.index)))\n",
    "\n",
    "#Count of how often each outcome was recorded\n",
    "freq_pos = (df.y.values == 'yes').sum()\n",
    "freq_neg = (df.y.values =='no').sum()\n",
    "\n",
    "pos_counts = pos_count.to_dict()\n",
    "neg_counts = neg_count.to_dict()\n",
    "all_index= list(all_counts)\n",
    "\n",
    "all_counts = [pos_counts.get(k,0) / freq_pos - neg_counts.get(k,0) / freq_neg for k in all_counts]\n",
    "\n",
    "sns.barplot(all_counts, all_index)\n",
    "plt.title(feature_name)\n",
    "plt.tight_layout()"
   ]
  },
  {
   "cell_type": "markdown",
   "metadata": {},
   "source": [
    "By observing the above diagram we can say that people who have not taken a loan have applied for term deposit"
   ]
  },
  {
   "cell_type": "markdown",
   "metadata": {},
   "source": [
    "## 1.4 Month variable "
   ]
  },
  {
   "cell_type": "code",
   "execution_count": 16,
   "metadata": {},
   "outputs": [
    {
     "data": {
      "image/png": "[encoded data removed]",
      "text/plain": [
       "<Figure size 432x288 with 1 Axes>"
      ]
     },
     "metadata": {
      "needs_background": "light"
     },
     "output_type": "display_data"
    }
   ],
   "source": [
    "feature_name=\"month\"\n",
    "pos_count = df.loc[df.y.values == 'yes', feature_name].value_counts()\n",
    "neg_count = df.loc[df.y.values == 'no', feature_name].value_counts()\n",
    "\n",
    "all_counts = list(set(list(pos_count.index) + list(neg_count.index)))\n",
    "\n",
    "#Count of how often each outcome was recorded\n",
    "freq_pos = (df.y.values == 'yes').sum()\n",
    "freq_neg = (df.y.values =='no').sum()\n",
    "\n",
    "pos_counts = pos_count.to_dict()\n",
    "neg_counts = neg_count.to_dict()\n",
    "all_index= list(all_counts)\n",
    "\n",
    "all_counts = [pos_counts.get(k,0) / freq_pos - neg_counts.get(k,0) / freq_neg for k in all_counts]\n",
    "\n",
    "sns.barplot(all_counts, all_index)\n",
    "plt.title(feature_name)\n",
    "plt.tight_layout()"
   ]
  },
  {
   "cell_type": "markdown",
   "metadata": {},
   "source": [
    "With the above analysis, we can say that during the months of March, April, September and October is more likely to get a term posit. Meanwhile, May and July are the less likely to get a term deposit. "
   ]
  },
  {
   "cell_type": "markdown",
   "metadata": {},
   "source": [
    "# 2. Data Cleaning "
   ]
  },
  {
   "cell_type": "code",
   "execution_count": 63,
   "metadata": {},
   "outputs": [
    {
     "data": {
      "text/html": [
       "<div>\n",
       "<style scoped>\n",
       "    .dataframe tbody tr th:only-of-type {\n",
       "        vertical-align: middle;\n",
       "    }\n",
       "\n",
       "    .dataframe tbody tr th {\n",
       "        vertical-align: top;\n",
       "    }\n",
       "\n",
       "    .dataframe thead th {\n",
       "        text-align: right;\n",
       "    }\n",
       "</style>\n",
       "<table border=\"1\" class=\"dataframe\">\n",
       "  <thead>\n",
       "    <tr style=\"text-align: right;\">\n",
       "      <th></th>\n",
       "      <th>age</th>\n",
       "      <th>job</th>\n",
       "      <th>marital</th>\n",
       "      <th>education</th>\n",
       "      <th>default</th>\n",
       "      <th>balance</th>\n",
       "      <th>housing</th>\n",
       "      <th>loan</th>\n",
       "      <th>day</th>\n",
       "      <th>month</th>\n",
       "      <th>duration</th>\n",
       "      <th>campaign</th>\n",
       "      <th>pdays</th>\n",
       "      <th>previous</th>\n",
       "      <th>y</th>\n",
       "    </tr>\n",
       "  </thead>\n",
       "  <tbody>\n",
       "    <tr>\n",
       "      <th>0</th>\n",
       "      <td>58</td>\n",
       "      <td>management</td>\n",
       "      <td>married</td>\n",
       "      <td>tertiary</td>\n",
       "      <td>no</td>\n",
       "      <td>2143</td>\n",
       "      <td>yes</td>\n",
       "      <td>no</td>\n",
       "      <td>5</td>\n",
       "      <td>may</td>\n",
       "      <td>261</td>\n",
       "      <td>1</td>\n",
       "      <td>-1</td>\n",
       "      <td>0</td>\n",
       "      <td>no</td>\n",
       "    </tr>\n",
       "    <tr>\n",
       "      <th>1</th>\n",
       "      <td>44</td>\n",
       "      <td>technician</td>\n",
       "      <td>single</td>\n",
       "      <td>secondary</td>\n",
       "      <td>no</td>\n",
       "      <td>29</td>\n",
       "      <td>yes</td>\n",
       "      <td>no</td>\n",
       "      <td>5</td>\n",
       "      <td>may</td>\n",
       "      <td>151</td>\n",
       "      <td>1</td>\n",
       "      <td>-1</td>\n",
       "      <td>0</td>\n",
       "      <td>no</td>\n",
       "    </tr>\n",
       "    <tr>\n",
       "      <th>2</th>\n",
       "      <td>33</td>\n",
       "      <td>entrepreneur</td>\n",
       "      <td>married</td>\n",
       "      <td>secondary</td>\n",
       "      <td>no</td>\n",
       "      <td>2</td>\n",
       "      <td>yes</td>\n",
       "      <td>yes</td>\n",
       "      <td>5</td>\n",
       "      <td>may</td>\n",
       "      <td>76</td>\n",
       "      <td>1</td>\n",
       "      <td>-1</td>\n",
       "      <td>0</td>\n",
       "      <td>no</td>\n",
       "    </tr>\n",
       "    <tr>\n",
       "      <th>3</th>\n",
       "      <td>47</td>\n",
       "      <td>blue-collar</td>\n",
       "      <td>married</td>\n",
       "      <td>unknown</td>\n",
       "      <td>no</td>\n",
       "      <td>1506</td>\n",
       "      <td>yes</td>\n",
       "      <td>no</td>\n",
       "      <td>5</td>\n",
       "      <td>may</td>\n",
       "      <td>92</td>\n",
       "      <td>1</td>\n",
       "      <td>-1</td>\n",
       "      <td>0</td>\n",
       "      <td>no</td>\n",
       "    </tr>\n",
       "    <tr>\n",
       "      <th>4</th>\n",
       "      <td>33</td>\n",
       "      <td>unknown</td>\n",
       "      <td>single</td>\n",
       "      <td>unknown</td>\n",
       "      <td>no</td>\n",
       "      <td>1</td>\n",
       "      <td>no</td>\n",
       "      <td>no</td>\n",
       "      <td>5</td>\n",
       "      <td>may</td>\n",
       "      <td>198</td>\n",
       "      <td>1</td>\n",
       "      <td>-1</td>\n",
       "      <td>0</td>\n",
       "      <td>no</td>\n",
       "    </tr>\n",
       "  </tbody>\n",
       "</table>\n",
       "</div>"
      ],
      "text/plain": [
       "   age           job  marital  education default  balance housing loan  day  \\\n",
       "0   58    management  married   tertiary      no     2143     yes   no    5   \n",
       "1   44    technician   single  secondary      no       29     yes   no    5   \n",
       "2   33  entrepreneur  married  secondary      no        2     yes  yes    5   \n",
       "3   47   blue-collar  married    unknown      no     1506     yes   no    5   \n",
       "4   33       unknown   single    unknown      no        1      no   no    5   \n",
       "\n",
       "  month  duration  campaign  pdays  previous   y  \n",
       "0   may       261         1     -1         0  no  \n",
       "1   may       151         1     -1         0  no  \n",
       "2   may        76         1     -1         0  no  \n",
       "3   may        92         1     -1         0  no  \n",
       "4   may       198         1     -1         0  no  "
      ]
     },
     "execution_count": 63,
     "metadata": {},
     "output_type": "execute_result"
    }
   ],
   "source": [
    "#Remove 'contact' and 'poutcome' columns because they have large number of unknown values\n",
    "df_clean=df.drop(columns=['contact','poutcome'])\n",
    "df_clean.head()"
   ]
  },
  {
   "cell_type": "markdown",
   "metadata": {},
   "source": [
    "## 2.1 Education column"
   ]
  },
  {
   "cell_type": "code",
   "execution_count": 64,
   "metadata": {},
   "outputs": [
    {
     "name": "stdout",
     "output_type": "stream",
     "text": [
      "Df has 43354 values\n"
     ]
    }
   ],
   "source": [
    "#Remove rows when 'education' has 'unknown' values\n",
    "df_clean=df_clean[df_clean['education']!='unknown']\n",
    "print('Df has {} values'.format(len(df_clean)))"
   ]
  },
  {
   "cell_type": "markdown",
   "metadata": {},
   "source": [
    "## 2.2 Job column "
   ]
  },
  {
   "cell_type": "code",
   "execution_count": 65,
   "metadata": {},
   "outputs": [
    {
     "name": "stdout",
     "output_type": "stream",
     "text": [
      "Df has 43193 values\n"
     ]
    }
   ],
   "source": [
    "#Remove rows when 'job' has 'unknown' values\n",
    "\n",
    "df_clean = df_clean[df_clean['job']!='unknown']\n",
    "print('Df has {} values'.format(len(df_clean)))\n"
   ]
  },
  {
   "cell_type": "code",
   "execution_count": 22,
   "metadata": {},
   "outputs": [
    {
     "data": {
      "text/plain": [
       "<matplotlib.axes._subplots.AxesSubplot at 0x1a3b262a0c8>"
      ]
     },
     "execution_count": 22,
     "metadata": {},
     "output_type": "execute_result"
    },
    {
     "data": {
      "image/png": "[encoded data removed]",
      "text/plain": [
       "<Figure size 432x288 with 1 Axes>"
      ]
     },
     "metadata": {
      "needs_background": "light"
     },
     "output_type": "display_data"
    }
   ],
   "source": [
    "df_clean.age.hist(bins=4)"
   ]
  },
  {
   "cell_type": "markdown",
   "metadata": {},
   "source": [
    "## 2.3 Age column"
   ]
  },
  {
   "cell_type": "code",
   "execution_count": 66,
   "metadata": {},
   "outputs": [
    {
     "name": "stdout",
     "output_type": "stream",
     "text": [
      "19804 19804\n",
      "39393 19589\n",
      "42966 3573\n",
      "43191 225\n"
     ]
    },
    {
     "data": {
      "text/html": [
       "<div>\n",
       "<style scoped>\n",
       "    .dataframe tbody tr th:only-of-type {\n",
       "        vertical-align: middle;\n",
       "    }\n",
       "\n",
       "    .dataframe tbody tr th {\n",
       "        vertical-align: top;\n",
       "    }\n",
       "\n",
       "    .dataframe thead th {\n",
       "        text-align: right;\n",
       "    }\n",
       "</style>\n",
       "<table border=\"1\" class=\"dataframe\">\n",
       "  <thead>\n",
       "    <tr style=\"text-align: right;\">\n",
       "      <th></th>\n",
       "      <th>job</th>\n",
       "      <th>marital</th>\n",
       "      <th>education</th>\n",
       "      <th>default</th>\n",
       "      <th>balance</th>\n",
       "      <th>housing</th>\n",
       "      <th>loan</th>\n",
       "      <th>day</th>\n",
       "      <th>month</th>\n",
       "      <th>duration</th>\n",
       "      <th>campaign</th>\n",
       "      <th>pdays</th>\n",
       "      <th>previous</th>\n",
       "      <th>y</th>\n",
       "      <th>age_18_37</th>\n",
       "      <th>age_37_56</th>\n",
       "      <th>age_56_75</th>\n",
       "      <th>age_75_95</th>\n",
       "    </tr>\n",
       "  </thead>\n",
       "  <tbody>\n",
       "    <tr>\n",
       "      <th>0</th>\n",
       "      <td>management</td>\n",
       "      <td>married</td>\n",
       "      <td>tertiary</td>\n",
       "      <td>no</td>\n",
       "      <td>2143</td>\n",
       "      <td>yes</td>\n",
       "      <td>no</td>\n",
       "      <td>5</td>\n",
       "      <td>may</td>\n",
       "      <td>261</td>\n",
       "      <td>1</td>\n",
       "      <td>-1</td>\n",
       "      <td>0</td>\n",
       "      <td>no</td>\n",
       "      <td>0</td>\n",
       "      <td>0</td>\n",
       "      <td>1</td>\n",
       "      <td>0</td>\n",
       "    </tr>\n",
       "    <tr>\n",
       "      <th>1</th>\n",
       "      <td>technician</td>\n",
       "      <td>single</td>\n",
       "      <td>secondary</td>\n",
       "      <td>no</td>\n",
       "      <td>29</td>\n",
       "      <td>yes</td>\n",
       "      <td>no</td>\n",
       "      <td>5</td>\n",
       "      <td>may</td>\n",
       "      <td>151</td>\n",
       "      <td>1</td>\n",
       "      <td>-1</td>\n",
       "      <td>0</td>\n",
       "      <td>no</td>\n",
       "      <td>0</td>\n",
       "      <td>1</td>\n",
       "      <td>0</td>\n",
       "      <td>0</td>\n",
       "    </tr>\n",
       "    <tr>\n",
       "      <th>2</th>\n",
       "      <td>entrepreneur</td>\n",
       "      <td>married</td>\n",
       "      <td>secondary</td>\n",
       "      <td>no</td>\n",
       "      <td>2</td>\n",
       "      <td>yes</td>\n",
       "      <td>yes</td>\n",
       "      <td>5</td>\n",
       "      <td>may</td>\n",
       "      <td>76</td>\n",
       "      <td>1</td>\n",
       "      <td>-1</td>\n",
       "      <td>0</td>\n",
       "      <td>no</td>\n",
       "      <td>1</td>\n",
       "      <td>0</td>\n",
       "      <td>0</td>\n",
       "      <td>0</td>\n",
       "    </tr>\n",
       "    <tr>\n",
       "      <th>5</th>\n",
       "      <td>management</td>\n",
       "      <td>married</td>\n",
       "      <td>tertiary</td>\n",
       "      <td>no</td>\n",
       "      <td>231</td>\n",
       "      <td>yes</td>\n",
       "      <td>no</td>\n",
       "      <td>5</td>\n",
       "      <td>may</td>\n",
       "      <td>139</td>\n",
       "      <td>1</td>\n",
       "      <td>-1</td>\n",
       "      <td>0</td>\n",
       "      <td>no</td>\n",
       "      <td>1</td>\n",
       "      <td>0</td>\n",
       "      <td>0</td>\n",
       "      <td>0</td>\n",
       "    </tr>\n",
       "    <tr>\n",
       "      <th>6</th>\n",
       "      <td>management</td>\n",
       "      <td>single</td>\n",
       "      <td>tertiary</td>\n",
       "      <td>no</td>\n",
       "      <td>447</td>\n",
       "      <td>yes</td>\n",
       "      <td>yes</td>\n",
       "      <td>5</td>\n",
       "      <td>may</td>\n",
       "      <td>217</td>\n",
       "      <td>1</td>\n",
       "      <td>-1</td>\n",
       "      <td>0</td>\n",
       "      <td>no</td>\n",
       "      <td>1</td>\n",
       "      <td>0</td>\n",
       "      <td>0</td>\n",
       "      <td>0</td>\n",
       "    </tr>\n",
       "  </tbody>\n",
       "</table>\n",
       "</div>"
      ],
      "text/plain": [
       "            job  marital  education default  balance housing loan  day month  \\\n",
       "0    management  married   tertiary      no     2143     yes   no    5   may   \n",
       "1    technician   single  secondary      no       29     yes   no    5   may   \n",
       "2  entrepreneur  married  secondary      no        2     yes  yes    5   may   \n",
       "5    management  married   tertiary      no      231     yes   no    5   may   \n",
       "6    management   single   tertiary      no      447     yes  yes    5   may   \n",
       "\n",
       "   duration  campaign  pdays  previous   y  age_18_37  age_37_56  age_56_75  \\\n",
       "0       261         1     -1         0  no          0          0          1   \n",
       "1       151         1     -1         0  no          0          1          0   \n",
       "2        76         1     -1         0  no          1          0          0   \n",
       "5       139         1     -1         0  no          1          0          0   \n",
       "6       217         1     -1         0  no          1          0          0   \n",
       "\n",
       "   age_75_95  \n",
       "0          0  \n",
       "1          0  \n",
       "2          0  \n",
       "5          0  \n",
       "6          0  "
      ]
     },
     "execution_count": 66,
     "metadata": {},
     "output_type": "execute_result"
    }
   ],
   "source": [
    "#Divide the age in 4 bins\n",
    "bins=4\n",
    "\n",
    "#Define variables to split the 'age' column\n",
    "age_max=df_clean.age.max()\n",
    "age_min=df_clean.age.min()\n",
    "range_age=age_max-age_min\n",
    "dist_age=range_age/bins\n",
    "\n",
    "lim_min=age_min\n",
    "lim_max=age_min + dist_age\n",
    "sum_vals=0\n",
    "\n",
    "for times in range(bins):\n",
    "    col_name='age_'+str(int(lim_min))+'_'+str(int(lim_max))\n",
    "    df_clean[col_name]=((df_clean.age >= lim_min) & (df_clean.age < lim_max)) *1\n",
    "    df_temp=df_clean[(df_clean.age >= lim_min) & (df_clean.age < lim_max)]\n",
    "    sum_vals+=len(df_temp)\n",
    "    print(sum_vals, len(df_temp))\n",
    "\n",
    "    lim_min=lim_max\n",
    "    lim_max+=dist_age\n",
    "    \n",
    "df_clean=df_clean.drop(columns=['age'])\n",
    "df_clean.head()"
   ]
  },
  {
   "cell_type": "markdown",
   "metadata": {},
   "source": [
    "## 2.4 Month column"
   ]
  },
  {
   "cell_type": "code",
   "execution_count": 67,
   "metadata": {},
   "outputs": [
    {
     "data": {
      "text/html": [
       "<div>\n",
       "<style scoped>\n",
       "    .dataframe tbody tr th:only-of-type {\n",
       "        vertical-align: middle;\n",
       "    }\n",
       "\n",
       "    .dataframe tbody tr th {\n",
       "        vertical-align: top;\n",
       "    }\n",
       "\n",
       "    .dataframe thead th {\n",
       "        text-align: right;\n",
       "    }\n",
       "</style>\n",
       "<table border=\"1\" class=\"dataframe\">\n",
       "  <thead>\n",
       "    <tr style=\"text-align: right;\">\n",
       "      <th></th>\n",
       "      <th>job</th>\n",
       "      <th>marital</th>\n",
       "      <th>education</th>\n",
       "      <th>default</th>\n",
       "      <th>balance</th>\n",
       "      <th>housing</th>\n",
       "      <th>loan</th>\n",
       "      <th>day</th>\n",
       "      <th>duration</th>\n",
       "      <th>campaign</th>\n",
       "      <th>pdays</th>\n",
       "      <th>previous</th>\n",
       "      <th>y</th>\n",
       "      <th>age_18_37</th>\n",
       "      <th>age_37_56</th>\n",
       "      <th>age_56_75</th>\n",
       "      <th>age_75_95</th>\n",
       "      <th>month_T1</th>\n",
       "      <th>month_T2</th>\n",
       "      <th>month_T3</th>\n",
       "    </tr>\n",
       "  </thead>\n",
       "  <tbody>\n",
       "    <tr>\n",
       "      <th>0</th>\n",
       "      <td>management</td>\n",
       "      <td>married</td>\n",
       "      <td>tertiary</td>\n",
       "      <td>no</td>\n",
       "      <td>2143</td>\n",
       "      <td>yes</td>\n",
       "      <td>no</td>\n",
       "      <td>5</td>\n",
       "      <td>261</td>\n",
       "      <td>1</td>\n",
       "      <td>-1</td>\n",
       "      <td>0</td>\n",
       "      <td>no</td>\n",
       "      <td>0</td>\n",
       "      <td>0</td>\n",
       "      <td>1</td>\n",
       "      <td>0</td>\n",
       "      <td>0</td>\n",
       "      <td>1</td>\n",
       "      <td>0</td>\n",
       "    </tr>\n",
       "    <tr>\n",
       "      <th>1</th>\n",
       "      <td>technician</td>\n",
       "      <td>single</td>\n",
       "      <td>secondary</td>\n",
       "      <td>no</td>\n",
       "      <td>29</td>\n",
       "      <td>yes</td>\n",
       "      <td>no</td>\n",
       "      <td>5</td>\n",
       "      <td>151</td>\n",
       "      <td>1</td>\n",
       "      <td>-1</td>\n",
       "      <td>0</td>\n",
       "      <td>no</td>\n",
       "      <td>0</td>\n",
       "      <td>1</td>\n",
       "      <td>0</td>\n",
       "      <td>0</td>\n",
       "      <td>0</td>\n",
       "      <td>1</td>\n",
       "      <td>0</td>\n",
       "    </tr>\n",
       "    <tr>\n",
       "      <th>2</th>\n",
       "      <td>entrepreneur</td>\n",
       "      <td>married</td>\n",
       "      <td>secondary</td>\n",
       "      <td>no</td>\n",
       "      <td>2</td>\n",
       "      <td>yes</td>\n",
       "      <td>yes</td>\n",
       "      <td>5</td>\n",
       "      <td>76</td>\n",
       "      <td>1</td>\n",
       "      <td>-1</td>\n",
       "      <td>0</td>\n",
       "      <td>no</td>\n",
       "      <td>1</td>\n",
       "      <td>0</td>\n",
       "      <td>0</td>\n",
       "      <td>0</td>\n",
       "      <td>0</td>\n",
       "      <td>1</td>\n",
       "      <td>0</td>\n",
       "    </tr>\n",
       "    <tr>\n",
       "      <th>5</th>\n",
       "      <td>management</td>\n",
       "      <td>married</td>\n",
       "      <td>tertiary</td>\n",
       "      <td>no</td>\n",
       "      <td>231</td>\n",
       "      <td>yes</td>\n",
       "      <td>no</td>\n",
       "      <td>5</td>\n",
       "      <td>139</td>\n",
       "      <td>1</td>\n",
       "      <td>-1</td>\n",
       "      <td>0</td>\n",
       "      <td>no</td>\n",
       "      <td>1</td>\n",
       "      <td>0</td>\n",
       "      <td>0</td>\n",
       "      <td>0</td>\n",
       "      <td>0</td>\n",
       "      <td>1</td>\n",
       "      <td>0</td>\n",
       "    </tr>\n",
       "    <tr>\n",
       "      <th>6</th>\n",
       "      <td>management</td>\n",
       "      <td>single</td>\n",
       "      <td>tertiary</td>\n",
       "      <td>no</td>\n",
       "      <td>447</td>\n",
       "      <td>yes</td>\n",
       "      <td>yes</td>\n",
       "      <td>5</td>\n",
       "      <td>217</td>\n",
       "      <td>1</td>\n",
       "      <td>-1</td>\n",
       "      <td>0</td>\n",
       "      <td>no</td>\n",
       "      <td>1</td>\n",
       "      <td>0</td>\n",
       "      <td>0</td>\n",
       "      <td>0</td>\n",
       "      <td>0</td>\n",
       "      <td>1</td>\n",
       "      <td>0</td>\n",
       "    </tr>\n",
       "  </tbody>\n",
       "</table>\n",
       "</div>"
      ],
      "text/plain": [
       "            job  marital  education default  balance housing loan  day  \\\n",
       "0    management  married   tertiary      no     2143     yes   no    5   \n",
       "1    technician   single  secondary      no       29     yes   no    5   \n",
       "2  entrepreneur  married  secondary      no        2     yes  yes    5   \n",
       "5    management  married   tertiary      no      231     yes   no    5   \n",
       "6    management   single   tertiary      no      447     yes  yes    5   \n",
       "\n",
       "   duration  campaign  pdays  previous   y  age_18_37  age_37_56  age_56_75  \\\n",
       "0       261         1     -1         0  no          0          0          1   \n",
       "1       151         1     -1         0  no          0          1          0   \n",
       "2        76         1     -1         0  no          1          0          0   \n",
       "5       139         1     -1         0  no          1          0          0   \n",
       "6       217         1     -1         0  no          1          0          0   \n",
       "\n",
       "   age_75_95  month_T1  month_T2  month_T3  \n",
       "0          0         0         1         0  \n",
       "1          0         0         1         0  \n",
       "2          0         0         1         0  \n",
       "5          0         0         1         0  \n",
       "6          0         0         1         0  "
      ]
     },
     "execution_count": 67,
     "metadata": {},
     "output_type": "execute_result"
    }
   ],
   "source": [
    "#Transform month in trimesters\n",
    "df_clean['month_T1']=df_clean.month.isin(['jan','feb','mar','apr'])*1\n",
    "df_clean['month_T2']=df_clean.month.isin(['may','jun','jul','ago'])*1\n",
    "df_clean['month_T3']=df_clean.month.isin(['sep','oct','nov','dic'])*1\n",
    "\n",
    "#Remove month column\n",
    "df_clean=df_clean.drop(columns=['month'])\n",
    "df_clean.head()"
   ]
  },
  {
   "cell_type": "markdown",
   "metadata": {},
   "source": [
    "## 2.5 Day column"
   ]
  },
  {
   "cell_type": "code",
   "execution_count": 68,
   "metadata": {},
   "outputs": [
    {
     "data": {
      "text/html": [
       "<div>\n",
       "<style scoped>\n",
       "    .dataframe tbody tr th:only-of-type {\n",
       "        vertical-align: middle;\n",
       "    }\n",
       "\n",
       "    .dataframe tbody tr th {\n",
       "        vertical-align: top;\n",
       "    }\n",
       "\n",
       "    .dataframe thead th {\n",
       "        text-align: right;\n",
       "    }\n",
       "</style>\n",
       "<table border=\"1\" class=\"dataframe\">\n",
       "  <thead>\n",
       "    <tr style=\"text-align: right;\">\n",
       "      <th></th>\n",
       "      <th>job</th>\n",
       "      <th>marital</th>\n",
       "      <th>education</th>\n",
       "      <th>default</th>\n",
       "      <th>balance</th>\n",
       "      <th>housing</th>\n",
       "      <th>loan</th>\n",
       "      <th>duration</th>\n",
       "      <th>campaign</th>\n",
       "      <th>pdays</th>\n",
       "      <th>...</th>\n",
       "      <th>age_18_37</th>\n",
       "      <th>age_37_56</th>\n",
       "      <th>age_56_75</th>\n",
       "      <th>age_75_95</th>\n",
       "      <th>month_T1</th>\n",
       "      <th>month_T2</th>\n",
       "      <th>month_T3</th>\n",
       "      <th>day_1_10</th>\n",
       "      <th>day_11_20</th>\n",
       "      <th>day_21_31</th>\n",
       "    </tr>\n",
       "  </thead>\n",
       "  <tbody>\n",
       "    <tr>\n",
       "      <th>0</th>\n",
       "      <td>management</td>\n",
       "      <td>married</td>\n",
       "      <td>tertiary</td>\n",
       "      <td>no</td>\n",
       "      <td>2143</td>\n",
       "      <td>yes</td>\n",
       "      <td>no</td>\n",
       "      <td>261</td>\n",
       "      <td>1</td>\n",
       "      <td>-1</td>\n",
       "      <td>...</td>\n",
       "      <td>0</td>\n",
       "      <td>0</td>\n",
       "      <td>1</td>\n",
       "      <td>0</td>\n",
       "      <td>0</td>\n",
       "      <td>1</td>\n",
       "      <td>0</td>\n",
       "      <td>1</td>\n",
       "      <td>0</td>\n",
       "      <td>0</td>\n",
       "    </tr>\n",
       "    <tr>\n",
       "      <th>1</th>\n",
       "      <td>technician</td>\n",
       "      <td>single</td>\n",
       "      <td>secondary</td>\n",
       "      <td>no</td>\n",
       "      <td>29</td>\n",
       "      <td>yes</td>\n",
       "      <td>no</td>\n",
       "      <td>151</td>\n",
       "      <td>1</td>\n",
       "      <td>-1</td>\n",
       "      <td>...</td>\n",
       "      <td>0</td>\n",
       "      <td>1</td>\n",
       "      <td>0</td>\n",
       "      <td>0</td>\n",
       "      <td>0</td>\n",
       "      <td>1</td>\n",
       "      <td>0</td>\n",
       "      <td>1</td>\n",
       "      <td>0</td>\n",
       "      <td>0</td>\n",
       "    </tr>\n",
       "    <tr>\n",
       "      <th>2</th>\n",
       "      <td>entrepreneur</td>\n",
       "      <td>married</td>\n",
       "      <td>secondary</td>\n",
       "      <td>no</td>\n",
       "      <td>2</td>\n",
       "      <td>yes</td>\n",
       "      <td>yes</td>\n",
       "      <td>76</td>\n",
       "      <td>1</td>\n",
       "      <td>-1</td>\n",
       "      <td>...</td>\n",
       "      <td>1</td>\n",
       "      <td>0</td>\n",
       "      <td>0</td>\n",
       "      <td>0</td>\n",
       "      <td>0</td>\n",
       "      <td>1</td>\n",
       "      <td>0</td>\n",
       "      <td>1</td>\n",
       "      <td>0</td>\n",
       "      <td>0</td>\n",
       "    </tr>\n",
       "    <tr>\n",
       "      <th>5</th>\n",
       "      <td>management</td>\n",
       "      <td>married</td>\n",
       "      <td>tertiary</td>\n",
       "      <td>no</td>\n",
       "      <td>231</td>\n",
       "      <td>yes</td>\n",
       "      <td>no</td>\n",
       "      <td>139</td>\n",
       "      <td>1</td>\n",
       "      <td>-1</td>\n",
       "      <td>...</td>\n",
       "      <td>1</td>\n",
       "      <td>0</td>\n",
       "      <td>0</td>\n",
       "      <td>0</td>\n",
       "      <td>0</td>\n",
       "      <td>1</td>\n",
       "      <td>0</td>\n",
       "      <td>1</td>\n",
       "      <td>0</td>\n",
       "      <td>0</td>\n",
       "    </tr>\n",
       "    <tr>\n",
       "      <th>6</th>\n",
       "      <td>management</td>\n",
       "      <td>single</td>\n",
       "      <td>tertiary</td>\n",
       "      <td>no</td>\n",
       "      <td>447</td>\n",
       "      <td>yes</td>\n",
       "      <td>yes</td>\n",
       "      <td>217</td>\n",
       "      <td>1</td>\n",
       "      <td>-1</td>\n",
       "      <td>...</td>\n",
       "      <td>1</td>\n",
       "      <td>0</td>\n",
       "      <td>0</td>\n",
       "      <td>0</td>\n",
       "      <td>0</td>\n",
       "      <td>1</td>\n",
       "      <td>0</td>\n",
       "      <td>1</td>\n",
       "      <td>0</td>\n",
       "      <td>0</td>\n",
       "    </tr>\n",
       "  </tbody>\n",
       "</table>\n",
       "<p>5 rows × 22 columns</p>\n",
       "</div>"
      ],
      "text/plain": [
       "            job  marital  education default  balance housing loan  duration  \\\n",
       "0    management  married   tertiary      no     2143     yes   no       261   \n",
       "1    technician   single  secondary      no       29     yes   no       151   \n",
       "2  entrepreneur  married  secondary      no        2     yes  yes        76   \n",
       "5    management  married   tertiary      no      231     yes   no       139   \n",
       "6    management   single   tertiary      no      447     yes  yes       217   \n",
       "\n",
       "   campaign  pdays  ...  age_18_37 age_37_56  age_56_75  age_75_95  month_T1  \\\n",
       "0         1     -1  ...          0         0          1          0         0   \n",
       "1         1     -1  ...          0         1          0          0         0   \n",
       "2         1     -1  ...          1         0          0          0         0   \n",
       "5         1     -1  ...          1         0          0          0         0   \n",
       "6         1     -1  ...          1         0          0          0         0   \n",
       "\n",
       "   month_T2  month_T3  day_1_10  day_11_20  day_21_31  \n",
       "0         1         0         1          0          0  \n",
       "1         1         0         1          0          0  \n",
       "2         1         0         1          0          0  \n",
       "5         1         0         1          0          0  \n",
       "6         1         0         1          0          0  \n",
       "\n",
       "[5 rows x 22 columns]"
      ]
     },
     "execution_count": 68,
     "metadata": {},
     "output_type": "execute_result"
    }
   ],
   "source": [
    "#Group the column in 10 days bin \n",
    "df_clean['day_1_10']=((df_clean.day > 0) & (df_clean.day <= 10))*1\n",
    "df_clean['day_11_20']=((df_clean.day > 10) & (df_clean.day <= 20))*1\n",
    "df_clean['day_21_31']=(df_clean.day > 20)*1\n",
    "\n",
    "#Remove month column\n",
    "df_clean=df_clean.drop(columns=['day'])\n",
    "df_clean.head()"
   ]
  },
  {
   "cell_type": "markdown",
   "metadata": {},
   "source": [
    "## 2.6 Default, housing, loan columns"
   ]
  },
  {
   "cell_type": "code",
   "execution_count": 69,
   "metadata": {},
   "outputs": [
    {
     "data": {
      "text/html": [
       "<div>\n",
       "<style scoped>\n",
       "    .dataframe tbody tr th:only-of-type {\n",
       "        vertical-align: middle;\n",
       "    }\n",
       "\n",
       "    .dataframe tbody tr th {\n",
       "        vertical-align: top;\n",
       "    }\n",
       "\n",
       "    .dataframe thead th {\n",
       "        text-align: right;\n",
       "    }\n",
       "</style>\n",
       "<table border=\"1\" class=\"dataframe\">\n",
       "  <thead>\n",
       "    <tr style=\"text-align: right;\">\n",
       "      <th></th>\n",
       "      <th>job</th>\n",
       "      <th>marital</th>\n",
       "      <th>education</th>\n",
       "      <th>default</th>\n",
       "      <th>balance</th>\n",
       "      <th>housing</th>\n",
       "      <th>loan</th>\n",
       "      <th>duration</th>\n",
       "      <th>campaign</th>\n",
       "      <th>pdays</th>\n",
       "      <th>...</th>\n",
       "      <th>age_18_37</th>\n",
       "      <th>age_37_56</th>\n",
       "      <th>age_56_75</th>\n",
       "      <th>age_75_95</th>\n",
       "      <th>month_T1</th>\n",
       "      <th>month_T2</th>\n",
       "      <th>month_T3</th>\n",
       "      <th>day_1_10</th>\n",
       "      <th>day_11_20</th>\n",
       "      <th>day_21_31</th>\n",
       "    </tr>\n",
       "  </thead>\n",
       "  <tbody>\n",
       "    <tr>\n",
       "      <th>0</th>\n",
       "      <td>management</td>\n",
       "      <td>married</td>\n",
       "      <td>tertiary</td>\n",
       "      <td>0</td>\n",
       "      <td>2143</td>\n",
       "      <td>1</td>\n",
       "      <td>0</td>\n",
       "      <td>261</td>\n",
       "      <td>1</td>\n",
       "      <td>-1</td>\n",
       "      <td>...</td>\n",
       "      <td>0</td>\n",
       "      <td>0</td>\n",
       "      <td>1</td>\n",
       "      <td>0</td>\n",
       "      <td>0</td>\n",
       "      <td>1</td>\n",
       "      <td>0</td>\n",
       "      <td>1</td>\n",
       "      <td>0</td>\n",
       "      <td>0</td>\n",
       "    </tr>\n",
       "    <tr>\n",
       "      <th>1</th>\n",
       "      <td>technician</td>\n",
       "      <td>single</td>\n",
       "      <td>secondary</td>\n",
       "      <td>0</td>\n",
       "      <td>29</td>\n",
       "      <td>1</td>\n",
       "      <td>0</td>\n",
       "      <td>151</td>\n",
       "      <td>1</td>\n",
       "      <td>-1</td>\n",
       "      <td>...</td>\n",
       "      <td>0</td>\n",
       "      <td>1</td>\n",
       "      <td>0</td>\n",
       "      <td>0</td>\n",
       "      <td>0</td>\n",
       "      <td>1</td>\n",
       "      <td>0</td>\n",
       "      <td>1</td>\n",
       "      <td>0</td>\n",
       "      <td>0</td>\n",
       "    </tr>\n",
       "    <tr>\n",
       "      <th>2</th>\n",
       "      <td>entrepreneur</td>\n",
       "      <td>married</td>\n",
       "      <td>secondary</td>\n",
       "      <td>0</td>\n",
       "      <td>2</td>\n",
       "      <td>1</td>\n",
       "      <td>1</td>\n",
       "      <td>76</td>\n",
       "      <td>1</td>\n",
       "      <td>-1</td>\n",
       "      <td>...</td>\n",
       "      <td>1</td>\n",
       "      <td>0</td>\n",
       "      <td>0</td>\n",
       "      <td>0</td>\n",
       "      <td>0</td>\n",
       "      <td>1</td>\n",
       "      <td>0</td>\n",
       "      <td>1</td>\n",
       "      <td>0</td>\n",
       "      <td>0</td>\n",
       "    </tr>\n",
       "    <tr>\n",
       "      <th>5</th>\n",
       "      <td>management</td>\n",
       "      <td>married</td>\n",
       "      <td>tertiary</td>\n",
       "      <td>0</td>\n",
       "      <td>231</td>\n",
       "      <td>1</td>\n",
       "      <td>0</td>\n",
       "      <td>139</td>\n",
       "      <td>1</td>\n",
       "      <td>-1</td>\n",
       "      <td>...</td>\n",
       "      <td>1</td>\n",
       "      <td>0</td>\n",
       "      <td>0</td>\n",
       "      <td>0</td>\n",
       "      <td>0</td>\n",
       "      <td>1</td>\n",
       "      <td>0</td>\n",
       "      <td>1</td>\n",
       "      <td>0</td>\n",
       "      <td>0</td>\n",
       "    </tr>\n",
       "    <tr>\n",
       "      <th>6</th>\n",
       "      <td>management</td>\n",
       "      <td>single</td>\n",
       "      <td>tertiary</td>\n",
       "      <td>0</td>\n",
       "      <td>447</td>\n",
       "      <td>1</td>\n",
       "      <td>1</td>\n",
       "      <td>217</td>\n",
       "      <td>1</td>\n",
       "      <td>-1</td>\n",
       "      <td>...</td>\n",
       "      <td>1</td>\n",
       "      <td>0</td>\n",
       "      <td>0</td>\n",
       "      <td>0</td>\n",
       "      <td>0</td>\n",
       "      <td>1</td>\n",
       "      <td>0</td>\n",
       "      <td>1</td>\n",
       "      <td>0</td>\n",
       "      <td>0</td>\n",
       "    </tr>\n",
       "  </tbody>\n",
       "</table>\n",
       "<p>5 rows × 22 columns</p>\n",
       "</div>"
      ],
      "text/plain": [
       "            job  marital  education  default  balance  housing  loan  \\\n",
       "0    management  married   tertiary        0     2143        1     0   \n",
       "1    technician   single  secondary        0       29        1     0   \n",
       "2  entrepreneur  married  secondary        0        2        1     1   \n",
       "5    management  married   tertiary        0      231        1     0   \n",
       "6    management   single   tertiary        0      447        1     1   \n",
       "\n",
       "   duration  campaign  pdays  ...  age_18_37  age_37_56  age_56_75  age_75_95  \\\n",
       "0       261         1     -1  ...          0          0          1          0   \n",
       "1       151         1     -1  ...          0          1          0          0   \n",
       "2        76         1     -1  ...          1          0          0          0   \n",
       "5       139         1     -1  ...          1          0          0          0   \n",
       "6       217         1     -1  ...          1          0          0          0   \n",
       "\n",
       "   month_T1  month_T2  month_T3  day_1_10  day_11_20  day_21_31  \n",
       "0         0         1         0         1          0          0  \n",
       "1         0         1         0         1          0          0  \n",
       "2         0         1         0         1          0          0  \n",
       "5         0         1         0         1          0          0  \n",
       "6         0         1         0         1          0          0  \n",
       "\n",
       "[5 rows x 22 columns]"
      ]
     },
     "execution_count": 69,
     "metadata": {},
     "output_type": "execute_result"
    }
   ],
   "source": [
    "# #transform 'yes', 'no' to numerical values\n",
    "df_clean.default=df_clean.default.map(dict(yes=1, no=0))\n",
    "df_clean.housing=df_clean.housing.map(dict(yes=1, no=0))\n",
    "df_clean.loan=df_clean.loan.map(dict(yes=1, no=0))\n",
    "df_clean.y=df_clean.y.map(dict(yes=1, no=0))\n",
    "\n",
    "df_clean.head()\n"
   ]
  },
  {
   "cell_type": "code",
   "execution_count": 70,
   "metadata": {},
   "outputs": [
    {
     "data": {
      "text/plain": [
       "Index(['job', 'marital', 'education', 'default', 'balance', 'housing', 'loan',\n",
       "       'duration', 'campaign', 'pdays', 'previous', 'y', 'age_18_37',\n",
       "       'age_37_56', 'age_56_75', 'age_75_95', 'month_T1', 'month_T2',\n",
       "       'month_T3', 'day_1_10', 'day_11_20', 'day_21_31'],\n",
       "      dtype='object')"
      ]
     },
     "execution_count": 70,
     "metadata": {},
     "output_type": "execute_result"
    }
   ],
   "source": [
    "df_clean.columns"
   ]
  },
  {
   "cell_type": "markdown",
   "metadata": {},
   "source": [
    "## 2.7 Job, marital, education columns"
   ]
  },
  {
   "cell_type": "code",
   "execution_count": 71,
   "metadata": {},
   "outputs": [
    {
     "data": {
      "text/html": [
       "<div>\n",
       "<style scoped>\n",
       "    .dataframe tbody tr th:only-of-type {\n",
       "        vertical-align: middle;\n",
       "    }\n",
       "\n",
       "    .dataframe tbody tr th {\n",
       "        vertical-align: top;\n",
       "    }\n",
       "\n",
       "    .dataframe thead th {\n",
       "        text-align: right;\n",
       "    }\n",
       "</style>\n",
       "<table border=\"1\" class=\"dataframe\">\n",
       "  <thead>\n",
       "    <tr style=\"text-align: right;\">\n",
       "      <th></th>\n",
       "      <th>default</th>\n",
       "      <th>balance</th>\n",
       "      <th>housing</th>\n",
       "      <th>loan</th>\n",
       "      <th>duration</th>\n",
       "      <th>campaign</th>\n",
       "      <th>pdays</th>\n",
       "      <th>previous</th>\n",
       "      <th>y</th>\n",
       "      <th>age_18_37</th>\n",
       "      <th>...</th>\n",
       "      <th>job_services</th>\n",
       "      <th>job_student</th>\n",
       "      <th>job_technician</th>\n",
       "      <th>job_unemployed</th>\n",
       "      <th>marital_divorced</th>\n",
       "      <th>marital_married</th>\n",
       "      <th>marital_single</th>\n",
       "      <th>education_primary</th>\n",
       "      <th>education_secondary</th>\n",
       "      <th>education_tertiary</th>\n",
       "    </tr>\n",
       "  </thead>\n",
       "  <tbody>\n",
       "    <tr>\n",
       "      <th>0</th>\n",
       "      <td>0</td>\n",
       "      <td>2143</td>\n",
       "      <td>1</td>\n",
       "      <td>0</td>\n",
       "      <td>261</td>\n",
       "      <td>1</td>\n",
       "      <td>-1</td>\n",
       "      <td>0</td>\n",
       "      <td>0</td>\n",
       "      <td>0</td>\n",
       "      <td>...</td>\n",
       "      <td>0</td>\n",
       "      <td>0</td>\n",
       "      <td>0</td>\n",
       "      <td>0</td>\n",
       "      <td>0</td>\n",
       "      <td>1</td>\n",
       "      <td>0</td>\n",
       "      <td>0</td>\n",
       "      <td>0</td>\n",
       "      <td>1</td>\n",
       "    </tr>\n",
       "    <tr>\n",
       "      <th>1</th>\n",
       "      <td>0</td>\n",
       "      <td>29</td>\n",
       "      <td>1</td>\n",
       "      <td>0</td>\n",
       "      <td>151</td>\n",
       "      <td>1</td>\n",
       "      <td>-1</td>\n",
       "      <td>0</td>\n",
       "      <td>0</td>\n",
       "      <td>0</td>\n",
       "      <td>...</td>\n",
       "      <td>0</td>\n",
       "      <td>0</td>\n",
       "      <td>1</td>\n",
       "      <td>0</td>\n",
       "      <td>0</td>\n",
       "      <td>0</td>\n",
       "      <td>1</td>\n",
       "      <td>0</td>\n",
       "      <td>1</td>\n",
       "      <td>0</td>\n",
       "    </tr>\n",
       "    <tr>\n",
       "      <th>2</th>\n",
       "      <td>0</td>\n",
       "      <td>2</td>\n",
       "      <td>1</td>\n",
       "      <td>1</td>\n",
       "      <td>76</td>\n",
       "      <td>1</td>\n",
       "      <td>-1</td>\n",
       "      <td>0</td>\n",
       "      <td>0</td>\n",
       "      <td>1</td>\n",
       "      <td>...</td>\n",
       "      <td>0</td>\n",
       "      <td>0</td>\n",
       "      <td>0</td>\n",
       "      <td>0</td>\n",
       "      <td>0</td>\n",
       "      <td>1</td>\n",
       "      <td>0</td>\n",
       "      <td>0</td>\n",
       "      <td>1</td>\n",
       "      <td>0</td>\n",
       "    </tr>\n",
       "    <tr>\n",
       "      <th>5</th>\n",
       "      <td>0</td>\n",
       "      <td>231</td>\n",
       "      <td>1</td>\n",
       "      <td>0</td>\n",
       "      <td>139</td>\n",
       "      <td>1</td>\n",
       "      <td>-1</td>\n",
       "      <td>0</td>\n",
       "      <td>0</td>\n",
       "      <td>1</td>\n",
       "      <td>...</td>\n",
       "      <td>0</td>\n",
       "      <td>0</td>\n",
       "      <td>0</td>\n",
       "      <td>0</td>\n",
       "      <td>0</td>\n",
       "      <td>1</td>\n",
       "      <td>0</td>\n",
       "      <td>0</td>\n",
       "      <td>0</td>\n",
       "      <td>1</td>\n",
       "    </tr>\n",
       "    <tr>\n",
       "      <th>6</th>\n",
       "      <td>0</td>\n",
       "      <td>447</td>\n",
       "      <td>1</td>\n",
       "      <td>1</td>\n",
       "      <td>217</td>\n",
       "      <td>1</td>\n",
       "      <td>-1</td>\n",
       "      <td>0</td>\n",
       "      <td>0</td>\n",
       "      <td>1</td>\n",
       "      <td>...</td>\n",
       "      <td>0</td>\n",
       "      <td>0</td>\n",
       "      <td>0</td>\n",
       "      <td>0</td>\n",
       "      <td>0</td>\n",
       "      <td>0</td>\n",
       "      <td>1</td>\n",
       "      <td>0</td>\n",
       "      <td>0</td>\n",
       "      <td>1</td>\n",
       "    </tr>\n",
       "  </tbody>\n",
       "</table>\n",
       "<p>5 rows × 36 columns</p>\n",
       "</div>"
      ],
      "text/plain": [
       "   default  balance  housing  loan  duration  campaign  pdays  previous  y  \\\n",
       "0        0     2143        1     0       261         1     -1         0  0   \n",
       "1        0       29        1     0       151         1     -1         0  0   \n",
       "2        0        2        1     1        76         1     -1         0  0   \n",
       "5        0      231        1     0       139         1     -1         0  0   \n",
       "6        0      447        1     1       217         1     -1         0  0   \n",
       "\n",
       "   age_18_37  ...  job_services  job_student  job_technician  job_unemployed  \\\n",
       "0          0  ...             0            0               0               0   \n",
       "1          0  ...             0            0               1               0   \n",
       "2          1  ...             0            0               0               0   \n",
       "5          1  ...             0            0               0               0   \n",
       "6          1  ...             0            0               0               0   \n",
       "\n",
       "   marital_divorced  marital_married  marital_single  education_primary  \\\n",
       "0                 0                1               0                  0   \n",
       "1                 0                0               1                  0   \n",
       "2                 0                1               0                  0   \n",
       "5                 0                1               0                  0   \n",
       "6                 0                0               1                  0   \n",
       "\n",
       "   education_secondary  education_tertiary  \n",
       "0                    0                   1  \n",
       "1                    1                   0  \n",
       "2                    1                   0  \n",
       "5                    0                   1  \n",
       "6                    0                   1  \n",
       "\n",
       "[5 rows x 36 columns]"
      ]
     },
     "execution_count": 71,
     "metadata": {},
     "output_type": "execute_result"
    }
   ],
   "source": [
    "#Perform one hot encoding for the categorical features\n",
    "one_hot_encoding = pd.get_dummies(df_clean.iloc[:,[0,1,2]])\n",
    "df_clean=pd.concat([df_clean,one_hot_encoding],axis=1)\n",
    "df_clean=df_clean.drop(columns=['job','marital','education'])\n",
    "\n",
    "df_clean.head()"
   ]
  },
  {
   "cell_type": "code",
   "execution_count": 72,
   "metadata": {},
   "outputs": [
    {
     "data": {
      "text/plain": [
       "Index(['default', 'balance', 'housing', 'loan', 'duration', 'campaign',\n",
       "       'pdays', 'previous', 'y', 'age_18_37', 'age_37_56', 'age_56_75',\n",
       "       'age_75_95', 'month_T1', 'month_T2', 'month_T3', 'day_1_10',\n",
       "       'day_11_20', 'day_21_31', 'job_admin.', 'job_blue-collar',\n",
       "       'job_entrepreneur', 'job_housemaid', 'job_management', 'job_retired',\n",
       "       'job_self-employed', 'job_services', 'job_student', 'job_technician',\n",
       "       'job_unemployed', 'marital_divorced', 'marital_married',\n",
       "       'marital_single', 'education_primary', 'education_secondary',\n",
       "       'education_tertiary'],\n",
       "      dtype='object')"
      ]
     },
     "execution_count": 72,
     "metadata": {},
     "output_type": "execute_result"
    }
   ],
   "source": [
    "df_clean.columns"
   ]
  },
  {
   "cell_type": "markdown",
   "metadata": {},
   "source": [
    "## 2.8 Balance, duration, campaign, pdays, previous columns"
   ]
  },
  {
   "cell_type": "code",
   "execution_count": 73,
   "metadata": {},
   "outputs": [
    {
     "data": {
      "text/html": [
       "<div>\n",
       "<style scoped>\n",
       "    .dataframe tbody tr th:only-of-type {\n",
       "        vertical-align: middle;\n",
       "    }\n",
       "\n",
       "    .dataframe tbody tr th {\n",
       "        vertical-align: top;\n",
       "    }\n",
       "\n",
       "    .dataframe thead th {\n",
       "        text-align: right;\n",
       "    }\n",
       "</style>\n",
       "<table border=\"1\" class=\"dataframe\">\n",
       "  <thead>\n",
       "    <tr style=\"text-align: right;\">\n",
       "      <th></th>\n",
       "      <th>default</th>\n",
       "      <th>balance</th>\n",
       "      <th>housing</th>\n",
       "      <th>loan</th>\n",
       "      <th>duration</th>\n",
       "      <th>campaign</th>\n",
       "      <th>pdays</th>\n",
       "      <th>previous</th>\n",
       "      <th>y</th>\n",
       "      <th>age_18_37</th>\n",
       "      <th>...</th>\n",
       "      <th>job_services</th>\n",
       "      <th>job_student</th>\n",
       "      <th>job_technician</th>\n",
       "      <th>job_unemployed</th>\n",
       "      <th>marital_divorced</th>\n",
       "      <th>marital_married</th>\n",
       "      <th>marital_single</th>\n",
       "      <th>education_primary</th>\n",
       "      <th>education_secondary</th>\n",
       "      <th>education_tertiary</th>\n",
       "    </tr>\n",
       "  </thead>\n",
       "  <tbody>\n",
       "    <tr>\n",
       "      <th>0</th>\n",
       "      <td>0</td>\n",
       "      <td>0.259354</td>\n",
       "      <td>1</td>\n",
       "      <td>0</td>\n",
       "      <td>0.010368</td>\n",
       "      <td>-0.573827</td>\n",
       "      <td>-0.412311</td>\n",
       "      <td>-0.25073</td>\n",
       "      <td>0</td>\n",
       "      <td>0</td>\n",
       "      <td>...</td>\n",
       "      <td>0</td>\n",
       "      <td>0</td>\n",
       "      <td>0</td>\n",
       "      <td>0</td>\n",
       "      <td>0</td>\n",
       "      <td>1</td>\n",
       "      <td>0</td>\n",
       "      <td>0</td>\n",
       "      <td>0</td>\n",
       "      <td>1</td>\n",
       "    </tr>\n",
       "    <tr>\n",
       "      <th>1</th>\n",
       "      <td>0</td>\n",
       "      <td>-0.435568</td>\n",
       "      <td>1</td>\n",
       "      <td>0</td>\n",
       "      <td>-0.415726</td>\n",
       "      <td>-0.573827</td>\n",
       "      <td>-0.412311</td>\n",
       "      <td>-0.25073</td>\n",
       "      <td>0</td>\n",
       "      <td>0</td>\n",
       "      <td>...</td>\n",
       "      <td>0</td>\n",
       "      <td>0</td>\n",
       "      <td>1</td>\n",
       "      <td>0</td>\n",
       "      <td>0</td>\n",
       "      <td>0</td>\n",
       "      <td>1</td>\n",
       "      <td>0</td>\n",
       "      <td>1</td>\n",
       "      <td>0</td>\n",
       "    </tr>\n",
       "    <tr>\n",
       "      <th>2</th>\n",
       "      <td>0</td>\n",
       "      <td>-0.444443</td>\n",
       "      <td>1</td>\n",
       "      <td>1</td>\n",
       "      <td>-0.706245</td>\n",
       "      <td>-0.573827</td>\n",
       "      <td>-0.412311</td>\n",
       "      <td>-0.25073</td>\n",
       "      <td>0</td>\n",
       "      <td>1</td>\n",
       "      <td>...</td>\n",
       "      <td>0</td>\n",
       "      <td>0</td>\n",
       "      <td>0</td>\n",
       "      <td>0</td>\n",
       "      <td>0</td>\n",
       "      <td>1</td>\n",
       "      <td>0</td>\n",
       "      <td>0</td>\n",
       "      <td>1</td>\n",
       "      <td>0</td>\n",
       "    </tr>\n",
       "    <tr>\n",
       "      <th>5</th>\n",
       "      <td>0</td>\n",
       "      <td>-0.369166</td>\n",
       "      <td>1</td>\n",
       "      <td>0</td>\n",
       "      <td>-0.462209</td>\n",
       "      <td>-0.573827</td>\n",
       "      <td>-0.412311</td>\n",
       "      <td>-0.25073</td>\n",
       "      <td>0</td>\n",
       "      <td>1</td>\n",
       "      <td>...</td>\n",
       "      <td>0</td>\n",
       "      <td>0</td>\n",
       "      <td>0</td>\n",
       "      <td>0</td>\n",
       "      <td>0</td>\n",
       "      <td>1</td>\n",
       "      <td>0</td>\n",
       "      <td>0</td>\n",
       "      <td>0</td>\n",
       "      <td>1</td>\n",
       "    </tr>\n",
       "    <tr>\n",
       "      <th>6</th>\n",
       "      <td>0</td>\n",
       "      <td>-0.298161</td>\n",
       "      <td>1</td>\n",
       "      <td>1</td>\n",
       "      <td>-0.160070</td>\n",
       "      <td>-0.573827</td>\n",
       "      <td>-0.412311</td>\n",
       "      <td>-0.25073</td>\n",
       "      <td>0</td>\n",
       "      <td>1</td>\n",
       "      <td>...</td>\n",
       "      <td>0</td>\n",
       "      <td>0</td>\n",
       "      <td>0</td>\n",
       "      <td>0</td>\n",
       "      <td>0</td>\n",
       "      <td>0</td>\n",
       "      <td>1</td>\n",
       "      <td>0</td>\n",
       "      <td>0</td>\n",
       "      <td>1</td>\n",
       "    </tr>\n",
       "  </tbody>\n",
       "</table>\n",
       "<p>5 rows × 36 columns</p>\n",
       "</div>"
      ],
      "text/plain": [
       "   default   balance  housing  loan  duration  campaign     pdays  previous  \\\n",
       "0        0  0.259354        1     0  0.010368 -0.573827 -0.412311  -0.25073   \n",
       "1        0 -0.435568        1     0 -0.415726 -0.573827 -0.412311  -0.25073   \n",
       "2        0 -0.444443        1     1 -0.706245 -0.573827 -0.412311  -0.25073   \n",
       "5        0 -0.369166        1     0 -0.462209 -0.573827 -0.412311  -0.25073   \n",
       "6        0 -0.298161        1     1 -0.160070 -0.573827 -0.412311  -0.25073   \n",
       "\n",
       "   y  age_18_37  ...  job_services  job_student  job_technician  \\\n",
       "0  0          0  ...             0            0               0   \n",
       "1  0          0  ...             0            0               1   \n",
       "2  0          1  ...             0            0               0   \n",
       "5  0          1  ...             0            0               0   \n",
       "6  0          1  ...             0            0               0   \n",
       "\n",
       "   job_unemployed  marital_divorced  marital_married  marital_single  \\\n",
       "0               0                 0                1               0   \n",
       "1               0                 0                0               1   \n",
       "2               0                 0                1               0   \n",
       "5               0                 0                1               0   \n",
       "6               0                 0                0               1   \n",
       "\n",
       "   education_primary  education_secondary  education_tertiary  \n",
       "0                  0                    0                   1  \n",
       "1                  0                    1                   0  \n",
       "2                  0                    1                   0  \n",
       "5                  0                    0                   1  \n",
       "6                  0                    0                   1  \n",
       "\n",
       "[5 rows x 36 columns]"
      ]
     },
     "execution_count": 73,
     "metadata": {},
     "output_type": "execute_result"
    }
   ],
   "source": [
    "#Perform normalisatin to numerical columns\n",
    "from sklearn.preprocessing import StandardScaler\n",
    "\n",
    "df_clean[['balance', 'duration', 'campaign', \n",
    "          'pdays','previous']]=StandardScaler().fit_transform(df_clean[['balance', 'duration', \n",
    "                                                                        'campaign', 'pdays','previous']])\n",
    "df_clean.head()"
   ]
  },
  {
   "cell_type": "markdown",
   "metadata": {},
   "source": [
    "## 2.9 Get only the most relevant variables"
   ]
  },
  {
   "cell_type": "code",
   "execution_count": 74,
   "metadata": {
    "scrolled": true
   },
   "outputs": [
    {
     "data": {
      "text/plain": [
       "<matplotlib.axes._subplots.AxesSubplot at 0x1a3b1cab5c8>"
      ]
     },
     "execution_count": 74,
     "metadata": {},
     "output_type": "execute_result"
    },
    {
     "data": {
      "image/png": "[encoded data removed]",
      "text/plain": [
       "<Figure size 792x648 with 2 Axes>"
      ]
     },
     "metadata": {
      "needs_background": "light"
     },
     "output_type": "display_data"
    }
   ],
   "source": [
    "## Correlation matrix\n",
    "\n",
    "import seaborn as sns \n",
    "\n",
    "# Compute the correlation matrix\n",
    "corr = df_clean.corr()\n",
    "\n",
    "# Generate a mask for the upper triangle\n",
    "mask = np.triu(np.ones_like(corr, dtype=bool))\n",
    "\n",
    "# Set up the matplotlib figure\n",
    "f, ax = plt.subplots(figsize=(11, 9))\n",
    "\n",
    "# Generate a custom diverging colormap\n",
    "cmap = sns.diverging_palette(230, 20, as_cmap=True)\n",
    "\n",
    "# Draw the heatmap with the mask and correct aspect ratio\n",
    "sns.heatmap(corr, mask=mask, cmap=cmap, vmax=.3, center=0,\n",
    "            square=True, linewidths=.5, cbar_kws={\"shrink\": .5})"
   ]
  },
  {
   "cell_type": "code",
   "execution_count": 77,
   "metadata": {},
   "outputs": [
    {
     "data": {
      "text/plain": [
       "y                      1.000000\n",
       "duration               0.397393\n",
       "housing                0.138300\n",
       "month_T2               0.128929\n",
       "pdays                  0.101446\n",
       "month_T1               0.098599\n",
       "previous               0.091764\n",
       "job_retired            0.078686\n",
       "month_T3               0.078435\n",
       "age_75_95              0.075101\n",
       "job_student            0.073955\n",
       "campaign               0.072465\n",
       "age_37_56              0.071115\n",
       "job_blue-collar        0.070973\n",
       "education_tertiary     0.070523\n",
       "loan                   0.068802\n",
       "age_56_75              0.067825\n",
       "marital_single         0.064084\n",
       "marital_married        0.060928\n",
       "balance                0.051386\n",
       "education_primary      0.040155\n",
       "education_secondary    0.035901\n",
       "job_management         0.032032\n",
       "job_services           0.028754\n",
       "default                0.023244\n",
       "age_18_37              0.022596\n",
       "job_unemployed         0.021305\n",
       "day_1_10               0.019947\n",
       "job_entrepreneur       0.019513\n",
       "day_11_20              0.015842\n",
       "job_housemaid          0.014936\n",
       "job_technician         0.007300\n",
       "job_admin.             0.007173\n",
       "marital_divorced       0.003044\n",
       "day_21_31              0.003033\n",
       "job_self-employed      0.001161\n",
       "Name: y, dtype: float64"
      ]
     },
     "execution_count": 77,
     "metadata": {},
     "output_type": "execute_result"
    }
   ],
   "source": [
    "corr.y.apply(abs).sort_values(ascending=False)"
   ]
  },
  {
   "cell_type": "code",
   "execution_count": 75,
   "metadata": {},
   "outputs": [
    {
     "data": {
      "text/plain": [
       "Index(['y', 'duration', 'housing', 'month_T2', 'pdays', 'month_T1',\n",
       "       'previous'],\n",
       "      dtype='object')"
      ]
     },
     "execution_count": 75,
     "metadata": {},
     "output_type": "execute_result"
    }
   ],
   "source": [
    "top_variables=corr.y.apply(abs).sort_values(ascending=False)[:7].index\n",
    "top_variables"
   ]
  },
  {
   "cell_type": "code",
   "execution_count": 76,
   "metadata": {},
   "outputs": [
    {
     "data": {
      "text/html": [
       "<div>\n",
       "<style scoped>\n",
       "    .dataframe tbody tr th:only-of-type {\n",
       "        vertical-align: middle;\n",
       "    }\n",
       "\n",
       "    .dataframe tbody tr th {\n",
       "        vertical-align: top;\n",
       "    }\n",
       "\n",
       "    .dataframe thead th {\n",
       "        text-align: right;\n",
       "    }\n",
       "</style>\n",
       "<table border=\"1\" class=\"dataframe\">\n",
       "  <thead>\n",
       "    <tr style=\"text-align: right;\">\n",
       "      <th></th>\n",
       "      <th>y</th>\n",
       "      <th>duration</th>\n",
       "      <th>housing</th>\n",
       "      <th>month_T2</th>\n",
       "      <th>pdays</th>\n",
       "      <th>month_T1</th>\n",
       "      <th>previous</th>\n",
       "    </tr>\n",
       "  </thead>\n",
       "  <tbody>\n",
       "    <tr>\n",
       "      <th>0</th>\n",
       "      <td>0</td>\n",
       "      <td>0.010368</td>\n",
       "      <td>1</td>\n",
       "      <td>1</td>\n",
       "      <td>-0.412311</td>\n",
       "      <td>0</td>\n",
       "      <td>-0.25073</td>\n",
       "    </tr>\n",
       "    <tr>\n",
       "      <th>1</th>\n",
       "      <td>0</td>\n",
       "      <td>-0.415726</td>\n",
       "      <td>1</td>\n",
       "      <td>1</td>\n",
       "      <td>-0.412311</td>\n",
       "      <td>0</td>\n",
       "      <td>-0.25073</td>\n",
       "    </tr>\n",
       "    <tr>\n",
       "      <th>2</th>\n",
       "      <td>0</td>\n",
       "      <td>-0.706245</td>\n",
       "      <td>1</td>\n",
       "      <td>1</td>\n",
       "      <td>-0.412311</td>\n",
       "      <td>0</td>\n",
       "      <td>-0.25073</td>\n",
       "    </tr>\n",
       "    <tr>\n",
       "      <th>5</th>\n",
       "      <td>0</td>\n",
       "      <td>-0.462209</td>\n",
       "      <td>1</td>\n",
       "      <td>1</td>\n",
       "      <td>-0.412311</td>\n",
       "      <td>0</td>\n",
       "      <td>-0.25073</td>\n",
       "    </tr>\n",
       "    <tr>\n",
       "      <th>6</th>\n",
       "      <td>0</td>\n",
       "      <td>-0.160070</td>\n",
       "      <td>1</td>\n",
       "      <td>1</td>\n",
       "      <td>-0.412311</td>\n",
       "      <td>0</td>\n",
       "      <td>-0.25073</td>\n",
       "    </tr>\n",
       "  </tbody>\n",
       "</table>\n",
       "</div>"
      ],
      "text/plain": [
       "   y  duration  housing  month_T2     pdays  month_T1  previous\n",
       "0  0  0.010368        1         1 -0.412311         0  -0.25073\n",
       "1  0 -0.415726        1         1 -0.412311         0  -0.25073\n",
       "2  0 -0.706245        1         1 -0.412311         0  -0.25073\n",
       "5  0 -0.462209        1         1 -0.412311         0  -0.25073\n",
       "6  0 -0.160070        1         1 -0.412311         0  -0.25073"
      ]
     },
     "execution_count": 76,
     "metadata": {},
     "output_type": "execute_result"
    }
   ],
   "source": [
    "df_reduce=df_clean[top_variables]\n",
    "df_reduce.head()"
   ]
  },
  {
   "cell_type": "markdown",
   "metadata": {},
   "source": [
    "## 2.10 Apply Feature Reduction using Principal Components"
   ]
  },
  {
   "cell_type": "code",
   "execution_count": 78,
   "metadata": {},
   "outputs": [
    {
     "data": {
      "text/plain": [
       "0.900200653879968"
      ]
     },
     "execution_count": 78,
     "metadata": {},
     "output_type": "execute_result"
    }
   ],
   "source": [
    "from sklearn.decomposition import PCA\n",
    "\n",
    "X1 = df_clean.drop(columns=['y'])\n",
    "n = 15\n",
    "pca = PCA(n_components= n)\n",
    "principalComponents = pca.fit_transform(X1)\n",
    "principalDf = pd.DataFrame(data = principalComponents)\n",
    "\n",
    "pca.explained_variance_ratio_[:n].sum()\n",
    "\n",
    "# 15 components explain 90% of the variance."
   ]
  },
  {
   "cell_type": "markdown",
   "metadata": {},
   "source": [
    "## 2.11 Define final predictors and target variable"
   ]
  },
  {
   "cell_type": "code",
   "execution_count": 79,
   "metadata": {},
   "outputs": [],
   "source": [
    "y = df_clean['y']\n",
    "X1 = df_clean.drop(columns=['y'])\n",
    "X2 = df_reduce.drop(columns=['y'])\n",
    "X3 = principalDf"
   ]
  },
  {
   "cell_type": "markdown",
   "metadata": {},
   "source": [
    "## 2.12 Verify Class Imbalance occurs"
   ]
  },
  {
   "cell_type": "code",
   "execution_count": 81,
   "metadata": {},
   "outputs": [
    {
     "data": {
      "image/png": "[encoded data removed]",
      "text/plain": [
       "<Figure size 576x432 with 1 Axes>"
      ]
     },
     "metadata": {
      "needs_background": "light"
     },
     "output_type": "display_data"
    }
   ],
   "source": [
    "plt.rcParams[\"figure.figsize\"] = (8, 6)\n",
    "df_clean['y'].value_counts()\n",
    "sns.countplot(x = 'y', data=df_clean)\n",
    "plt.show()"
   ]
  },
  {
   "cell_type": "markdown",
   "metadata": {},
   "source": [
    "# 3. Models deployment"
   ]
  },
  {
   "cell_type": "code",
   "execution_count": 172,
   "metadata": {},
   "outputs": [],
   "source": [
    "# Function to be used for all models in order to simply the coding\n",
    "\n",
    "from sklearn.model_selection import train_test_split\n",
    "from sklearn import metrics\n",
    "from sklearn.utils import shuffle\n",
    "from imblearn.over_sampling import SMOTE\n",
    "\n",
    "\n",
    "def fit_classifier(model_name, X, y):\n",
    "    '''takes the name of the model, the predictors, target variable, and\n",
    "    prints the confusion matrix, accuracy score and classification report.\n",
    "    An undersampling strategy is used after splitting the data.'''\n",
    "    \n",
    "    # split the dataset before undersampling\n",
    "    X_train, X_test, y_train, y_test = train_test_split(X, y, random_state=2021, train_size = 0.8, shuffle = True)\n",
    "\n",
    "    \n",
    "    # Apply undersampling to the training set\n",
    "    # define the undersampling method\n",
    "    undersample = NearMiss(version=3, n_neighbors=10, sampling_strategy=0.2)\n",
    "    # transform the dataset\n",
    "    X_under, y_under = undersample.fit_resample(X_train, y_train)\n",
    "    X_train = X_under\n",
    "    y_train = y_under\n",
    "    \n",
    "    #Training the model \n",
    "    my_model = model_name # Train the model\n",
    "    my_model.fit(X_train, y_train) # fit the model\n",
    "    pred = my_model.predict(X_test) # Predict the response\n",
    "\n",
    "    #Creating a confusion matrix \n",
    "    conf_mat= metrics.confusion_matrix(y_test, pred)\n",
    "    conf_mat_df=pd.DataFrame(conf_mat, index=['no','yes'], columns=['no','yes'] )\n",
    "    print(\"----------- CONFUSION MATRIX ------------------------\")\n",
    "    print(conf_mat_df,'\\n\\n')\n",
    "\n",
    "    # Model Accuracy: how often is the classifier correct?\n",
    "    print(\"----------- ACCURACY --------------------------------\")\n",
    "    print(\"Accuracy:\",metrics.accuracy_score(y_test, pred),'\\n\\n')\n",
    "    print(\"----------- CLASSIFICATION REPORT -------------------\")\n",
    "    print(metrics.classification_report(y_test, pred))\n",
    "    \n",
    "    \n",
    "    return [round(metrics.precision_score(y_test, pred),3), \n",
    "            round(metrics.recall_score(y_test, pred),3), \n",
    "            round(metrics.f1_score(y_test, pred),3),\n",
    "           round(metrics.accuracy_score(y_test, pred),3)]\n",
    "\n",
    "\n"
   ]
  },
  {
   "cell_type": "code",
   "execution_count": 205,
   "metadata": {},
   "outputs": [],
   "source": [
    "from sklearn import svm\n",
    "from sklearn.tree import DecisionTreeClassifier\n",
    "from sklearn.ensemble import GradientBoostingClassifier, RandomForestClassifier, GradientBoostingClassifier\n",
    "\n",
    "\n",
    "#Define the parameters of the model \n",
    "logistic_reg = linear_model.LogisticRegression()\n",
    "sup_vector_linear = svm.SVC(kernel = 'linear')\n",
    "sup_vector_rbf = svm.SVC(kernel = 'rbf')\n",
    "sup_vector_poly = svm.SVC(kernel = 'poly')\n",
    "decision_tree=DecisionTreeClassifier()\n",
    "ran_classifier = RandomForestClassifier()\n"
   ]
  },
  {
   "cell_type": "markdown",
   "metadata": {},
   "source": [
    "## 3.1 Logistic regression"
   ]
  },
  {
   "cell_type": "markdown",
   "metadata": {},
   "source": [
    "### 3.1.1 All variables"
   ]
  },
  {
   "cell_type": "code",
   "execution_count": 206,
   "metadata": {},
   "outputs": [
    {
     "name": "stderr",
     "output_type": "stream",
     "text": [
      "C:\\Users\\DELL\\AppData\\Roaming\\Python\\Python37\\site-packages\\imblearn\\under_sampling\\_prototype_selection\\_nearmiss.py:176: UserWarning: The number of the samples to be selected is larger than the number of samples available. The balancing ratio cannot be ensure and all samples will be returned.\n",
      "  \"The number of the samples to be selected is larger\"\n"
     ]
    },
    {
     "name": "stdout",
     "output_type": "stream",
     "text": [
      "----------- CONFUSION MATRIX ------------------------\n",
      "       no  yes\n",
      "no   7398  217\n",
      "yes   756  268 \n",
      "\n",
      "\n",
      "----------- ACCURACY --------------------------------\n",
      "Accuracy: 0.8873712235212409 \n",
      "\n",
      "\n",
      "----------- CLASSIFICATION REPORT -------------------\n",
      "              precision    recall  f1-score   support\n",
      "\n",
      "           0       0.91      0.97      0.94      7615\n",
      "           1       0.55      0.26      0.36      1024\n",
      "\n",
      "    accuracy                           0.89      8639\n",
      "   macro avg       0.73      0.62      0.65      8639\n",
      "weighted avg       0.87      0.89      0.87      8639\n",
      "\n"
     ]
    }
   ],
   "source": [
    "metrics_model = fit_classifier(logistic_reg, X1, y)\n",
    "models_measurements=pd.DataFrame([['Logistic regression', 'All variables']+metrics_model])\n"
   ]
  },
  {
   "cell_type": "markdown",
   "metadata": {},
   "source": [
    "### 3.1.2 Most relevant variables"
   ]
  },
  {
   "cell_type": "code",
   "execution_count": 207,
   "metadata": {},
   "outputs": [
    {
     "name": "stdout",
     "output_type": "stream",
     "text": [
      "----------- CONFUSION MATRIX ------------------------\n",
      "       no  yes\n",
      "no   7461  154\n",
      "yes   795  229 \n",
      "\n",
      "\n",
      "----------- ACCURACY --------------------------------\n",
      "Accuracy: 0.8901493228382915 \n",
      "\n",
      "\n",
      "----------- CLASSIFICATION REPORT -------------------\n",
      "              precision    recall  f1-score   support\n",
      "\n",
      "           0       0.90      0.98      0.94      7615\n",
      "           1       0.60      0.22      0.33      1024\n",
      "\n",
      "    accuracy                           0.89      8639\n",
      "   macro avg       0.75      0.60      0.63      8639\n",
      "weighted avg       0.87      0.89      0.87      8639\n",
      "\n"
     ]
    },
    {
     "name": "stderr",
     "output_type": "stream",
     "text": [
      "C:\\Users\\DELL\\AppData\\Roaming\\Python\\Python37\\site-packages\\imblearn\\under_sampling\\_prototype_selection\\_nearmiss.py:176: UserWarning: The number of the samples to be selected is larger than the number of samples available. The balancing ratio cannot be ensure and all samples will be returned.\n",
      "  \"The number of the samples to be selected is larger\"\n"
     ]
    }
   ],
   "source": [
    "metrics_model = fit_classifier(logistic_reg, X2, y)\n",
    "models_measurements=models_measurements.append([['Logistic regression', 'Most relevant variables']+metrics_model])\n"
   ]
  },
  {
   "cell_type": "markdown",
   "metadata": {},
   "source": [
    "### 3.1.3 PCA variables"
   ]
  },
  {
   "cell_type": "code",
   "execution_count": 208,
   "metadata": {},
   "outputs": [
    {
     "name": "stdout",
     "output_type": "stream",
     "text": [
      "----------- CONFUSION MATRIX ------------------------\n",
      "       no  yes\n",
      "no   7446  169\n",
      "yes   790  234 \n",
      "\n",
      "\n",
      "----------- ACCURACY --------------------------------\n",
      "Accuracy: 0.8889917814561871 \n",
      "\n",
      "\n",
      "----------- CLASSIFICATION REPORT -------------------\n",
      "              precision    recall  f1-score   support\n",
      "\n",
      "           0       0.90      0.98      0.94      7615\n",
      "           1       0.58      0.23      0.33      1024\n",
      "\n",
      "    accuracy                           0.89      8639\n",
      "   macro avg       0.74      0.60      0.63      8639\n",
      "weighted avg       0.87      0.89      0.87      8639\n",
      "\n"
     ]
    },
    {
     "name": "stderr",
     "output_type": "stream",
     "text": [
      "C:\\Users\\DELL\\AppData\\Roaming\\Python\\Python37\\site-packages\\imblearn\\under_sampling\\_prototype_selection\\_nearmiss.py:176: UserWarning: The number of the samples to be selected is larger than the number of samples available. The balancing ratio cannot be ensure and all samples will be returned.\n",
      "  \"The number of the samples to be selected is larger\"\n"
     ]
    }
   ],
   "source": [
    "metrics_model = fit_classifier(logistic_reg, X3, y)\n",
    "models_measurements=models_measurements.append([['Logistic regression', 'PCA variables']+metrics_model])\n"
   ]
  },
  {
   "cell_type": "markdown",
   "metadata": {},
   "source": [
    "## 3.2 Support Vector Machine - linear"
   ]
  },
  {
   "cell_type": "markdown",
   "metadata": {},
   "source": [
    "### 3.2.1 All variables"
   ]
  },
  {
   "cell_type": "code",
   "execution_count": 209,
   "metadata": {},
   "outputs": [
    {
     "name": "stderr",
     "output_type": "stream",
     "text": [
      "C:\\Users\\DELL\\AppData\\Roaming\\Python\\Python37\\site-packages\\imblearn\\under_sampling\\_prototype_selection\\_nearmiss.py:176: UserWarning: The number of the samples to be selected is larger than the number of samples available. The balancing ratio cannot be ensure and all samples will be returned.\n",
      "  \"The number of the samples to be selected is larger\"\n"
     ]
    },
    {
     "name": "stdout",
     "output_type": "stream",
     "text": [
      "----------- CONFUSION MATRIX ------------------------\n",
      "       no  yes\n",
      "no   7386  229\n",
      "yes   836  188 \n",
      "\n",
      "\n",
      "----------- ACCURACY --------------------------------\n",
      "Accuracy: 0.8767218428058803 \n",
      "\n",
      "\n",
      "----------- CLASSIFICATION REPORT -------------------\n",
      "              precision    recall  f1-score   support\n",
      "\n",
      "           0       0.90      0.97      0.93      7615\n",
      "           1       0.45      0.18      0.26      1024\n",
      "\n",
      "    accuracy                           0.88      8639\n",
      "   macro avg       0.67      0.58      0.60      8639\n",
      "weighted avg       0.85      0.88      0.85      8639\n",
      "\n"
     ]
    }
   ],
   "source": [
    "metrics_model = fit_classifier(sup_vector_linear, X1, y)\n",
    "models_measurements=models_measurements.append([['SVM linear', 'All variables']+metrics_model])\n"
   ]
  },
  {
   "cell_type": "markdown",
   "metadata": {},
   "source": [
    "### 3.2.2 Most relevant variables"
   ]
  },
  {
   "cell_type": "code",
   "execution_count": 210,
   "metadata": {},
   "outputs": [
    {
     "name": "stderr",
     "output_type": "stream",
     "text": [
      "C:\\Users\\DELL\\AppData\\Roaming\\Python\\Python37\\site-packages\\imblearn\\under_sampling\\_prototype_selection\\_nearmiss.py:176: UserWarning: The number of the samples to be selected is larger than the number of samples available. The balancing ratio cannot be ensure and all samples will be returned.\n",
      "  \"The number of the samples to be selected is larger\"\n"
     ]
    },
    {
     "name": "stdout",
     "output_type": "stream",
     "text": [
      "----------- CONFUSION MATRIX ------------------------\n",
      "       no  yes\n",
      "no   7555   60\n",
      "yes   932   92 \n",
      "\n",
      "\n",
      "----------- ACCURACY --------------------------------\n",
      "Accuracy: 0.8851718948952425 \n",
      "\n",
      "\n",
      "----------- CLASSIFICATION REPORT -------------------\n",
      "              precision    recall  f1-score   support\n",
      "\n",
      "           0       0.89      0.99      0.94      7615\n",
      "           1       0.61      0.09      0.16      1024\n",
      "\n",
      "    accuracy                           0.89      8639\n",
      "   macro avg       0.75      0.54      0.55      8639\n",
      "weighted avg       0.86      0.89      0.85      8639\n",
      "\n"
     ]
    }
   ],
   "source": [
    "metrics_model = fit_classifier(sup_vector_linear, X2, y)\n",
    "models_measurements=models_measurements.append([['SVM linear', 'Most relevant variables']+metrics_model])\n"
   ]
  },
  {
   "cell_type": "markdown",
   "metadata": {},
   "source": [
    "### 3.2.3 PCA variables"
   ]
  },
  {
   "cell_type": "code",
   "execution_count": 211,
   "metadata": {},
   "outputs": [
    {
     "name": "stderr",
     "output_type": "stream",
     "text": [
      "C:\\Users\\DELL\\AppData\\Roaming\\Python\\Python37\\site-packages\\imblearn\\under_sampling\\_prototype_selection\\_nearmiss.py:176: UserWarning: The number of the samples to be selected is larger than the number of samples available. The balancing ratio cannot be ensure and all samples will be returned.\n",
      "  \"The number of the samples to be selected is larger\"\n"
     ]
    },
    {
     "name": "stdout",
     "output_type": "stream",
     "text": [
      "----------- CONFUSION MATRIX ------------------------\n",
      "       no  yes\n",
      "no   7538   77\n",
      "yes   895  129 \n",
      "\n",
      "\n",
      "----------- ACCURACY --------------------------------\n",
      "Accuracy: 0.8874869776594513 \n",
      "\n",
      "\n",
      "----------- CLASSIFICATION REPORT -------------------\n",
      "              precision    recall  f1-score   support\n",
      "\n",
      "           0       0.89      0.99      0.94      7615\n",
      "           1       0.63      0.13      0.21      1024\n",
      "\n",
      "    accuracy                           0.89      8639\n",
      "   macro avg       0.76      0.56      0.57      8639\n",
      "weighted avg       0.86      0.89      0.85      8639\n",
      "\n"
     ]
    }
   ],
   "source": [
    "metrics_model = fit_classifier(sup_vector_linear, X3, y)\n",
    "models_measurements=models_measurements.append([['SVM linear', 'PCA variables']+metrics_model])\n"
   ]
  },
  {
   "cell_type": "markdown",
   "metadata": {},
   "source": [
    "## 3.3 Support Vector Machine - rbf"
   ]
  },
  {
   "cell_type": "markdown",
   "metadata": {},
   "source": [
    "### 3.3.1 All variables"
   ]
  },
  {
   "cell_type": "code",
   "execution_count": 212,
   "metadata": {},
   "outputs": [
    {
     "name": "stderr",
     "output_type": "stream",
     "text": [
      "C:\\Users\\DELL\\AppData\\Roaming\\Python\\Python37\\site-packages\\imblearn\\under_sampling\\_prototype_selection\\_nearmiss.py:176: UserWarning: The number of the samples to be selected is larger than the number of samples available. The balancing ratio cannot be ensure and all samples will be returned.\n",
      "  \"The number of the samples to be selected is larger\"\n"
     ]
    },
    {
     "name": "stdout",
     "output_type": "stream",
     "text": [
      "----------- CONFUSION MATRIX ------------------------\n",
      "       no  yes\n",
      "no   7385  230\n",
      "yes   662  362 \n",
      "\n",
      "\n",
      "----------- ACCURACY --------------------------------\n",
      "Accuracy: 0.8967473087162866 \n",
      "\n",
      "\n",
      "----------- CLASSIFICATION REPORT -------------------\n",
      "              precision    recall  f1-score   support\n",
      "\n",
      "           0       0.92      0.97      0.94      7615\n",
      "           1       0.61      0.35      0.45      1024\n",
      "\n",
      "    accuracy                           0.90      8639\n",
      "   macro avg       0.76      0.66      0.70      8639\n",
      "weighted avg       0.88      0.90      0.88      8639\n",
      "\n"
     ]
    }
   ],
   "source": [
    "metrics_model = fit_classifier(sup_vector_rbf, X1, y)\n",
    "models_measurements=models_measurements.append([['SVM rbf', 'All variables']+metrics_model])\n"
   ]
  },
  {
   "cell_type": "markdown",
   "metadata": {},
   "source": [
    "### 3.3.2 Most relevant variables"
   ]
  },
  {
   "cell_type": "code",
   "execution_count": 213,
   "metadata": {},
   "outputs": [
    {
     "name": "stderr",
     "output_type": "stream",
     "text": [
      "C:\\Users\\DELL\\AppData\\Roaming\\Python\\Python37\\site-packages\\imblearn\\under_sampling\\_prototype_selection\\_nearmiss.py:176: UserWarning: The number of the samples to be selected is larger than the number of samples available. The balancing ratio cannot be ensure and all samples will be returned.\n",
      "  \"The number of the samples to be selected is larger\"\n"
     ]
    },
    {
     "name": "stdout",
     "output_type": "stream",
     "text": [
      "----------- CONFUSION MATRIX ------------------------\n",
      "       no  yes\n",
      "no   7412  203\n",
      "yes   714  310 \n",
      "\n",
      "\n",
      "----------- ACCURACY --------------------------------\n",
      "Accuracy: 0.8938534552610256 \n",
      "\n",
      "\n",
      "----------- CLASSIFICATION REPORT -------------------\n",
      "              precision    recall  f1-score   support\n",
      "\n",
      "           0       0.91      0.97      0.94      7615\n",
      "           1       0.60      0.30      0.40      1024\n",
      "\n",
      "    accuracy                           0.89      8639\n",
      "   macro avg       0.76      0.64      0.67      8639\n",
      "weighted avg       0.88      0.89      0.88      8639\n",
      "\n"
     ]
    }
   ],
   "source": [
    "metrics_model = fit_classifier(sup_vector_rbf, X2, y)\n",
    "models_measurements=models_measurements.append([['SVM rbf', 'Most relevant variables']+metrics_model])\n"
   ]
  },
  {
   "cell_type": "markdown",
   "metadata": {},
   "source": [
    "### 3.3.3 PCA variables"
   ]
  },
  {
   "cell_type": "code",
   "execution_count": 214,
   "metadata": {
    "scrolled": true
   },
   "outputs": [
    {
     "name": "stderr",
     "output_type": "stream",
     "text": [
      "C:\\Users\\DELL\\AppData\\Roaming\\Python\\Python37\\site-packages\\imblearn\\under_sampling\\_prototype_selection\\_nearmiss.py:176: UserWarning: The number of the samples to be selected is larger than the number of samples available. The balancing ratio cannot be ensure and all samples will be returned.\n",
      "  \"The number of the samples to be selected is larger\"\n"
     ]
    },
    {
     "name": "stdout",
     "output_type": "stream",
     "text": [
      "----------- CONFUSION MATRIX ------------------------\n",
      "       no  yes\n",
      "no   7408  207\n",
      "yes   697  327 \n",
      "\n",
      "\n",
      "----------- ACCURACY --------------------------------\n",
      "Accuracy: 0.8953582590577613 \n",
      "\n",
      "\n",
      "----------- CLASSIFICATION REPORT -------------------\n",
      "              precision    recall  f1-score   support\n",
      "\n",
      "           0       0.91      0.97      0.94      7615\n",
      "           1       0.61      0.32      0.42      1024\n",
      "\n",
      "    accuracy                           0.90      8639\n",
      "   macro avg       0.76      0.65      0.68      8639\n",
      "weighted avg       0.88      0.90      0.88      8639\n",
      "\n"
     ]
    }
   ],
   "source": [
    "metrics_model = fit_classifier(sup_vector_rbf, X3, y)\n",
    "models_measurements=models_measurements.append([['SVM rbf', 'PCA variables']+metrics_model])\n"
   ]
  },
  {
   "cell_type": "markdown",
   "metadata": {},
   "source": [
    "## 3.4 Support Vector Machine - poly"
   ]
  },
  {
   "cell_type": "markdown",
   "metadata": {},
   "source": [
    "### 3.4.1 All variables"
   ]
  },
  {
   "cell_type": "code",
   "execution_count": 215,
   "metadata": {},
   "outputs": [
    {
     "name": "stderr",
     "output_type": "stream",
     "text": [
      "C:\\Users\\DELL\\AppData\\Roaming\\Python\\Python37\\site-packages\\imblearn\\under_sampling\\_prototype_selection\\_nearmiss.py:176: UserWarning: The number of the samples to be selected is larger than the number of samples available. The balancing ratio cannot be ensure and all samples will be returned.\n",
      "  \"The number of the samples to be selected is larger\"\n"
     ]
    },
    {
     "name": "stdout",
     "output_type": "stream",
     "text": [
      "----------- CONFUSION MATRIX ------------------------\n",
      "       no  yes\n",
      "no   7397  218\n",
      "yes   723  301 \n",
      "\n",
      "\n",
      "----------- ACCURACY --------------------------------\n",
      "Accuracy: 0.891075355943975 \n",
      "\n",
      "\n",
      "----------- CLASSIFICATION REPORT -------------------\n",
      "              precision    recall  f1-score   support\n",
      "\n",
      "           0       0.91      0.97      0.94      7615\n",
      "           1       0.58      0.29      0.39      1024\n",
      "\n",
      "    accuracy                           0.89      8639\n",
      "   macro avg       0.75      0.63      0.67      8639\n",
      "weighted avg       0.87      0.89      0.87      8639\n",
      "\n"
     ]
    }
   ],
   "source": [
    "metrics_model = fit_classifier(sup_vector_poly, X1, y)\n",
    "models_measurements=models_measurements.append([['SVM poly', 'All variables']+metrics_model])\n"
   ]
  },
  {
   "cell_type": "markdown",
   "metadata": {},
   "source": [
    "### 3.4.2 Most relevant variables"
   ]
  },
  {
   "cell_type": "code",
   "execution_count": 216,
   "metadata": {
    "scrolled": true
   },
   "outputs": [
    {
     "name": "stderr",
     "output_type": "stream",
     "text": [
      "C:\\Users\\DELL\\AppData\\Roaming\\Python\\Python37\\site-packages\\imblearn\\under_sampling\\_prototype_selection\\_nearmiss.py:176: UserWarning: The number of the samples to be selected is larger than the number of samples available. The balancing ratio cannot be ensure and all samples will be returned.\n",
      "  \"The number of the samples to be selected is larger\"\n"
     ]
    },
    {
     "name": "stdout",
     "output_type": "stream",
     "text": [
      "----------- CONFUSION MATRIX ------------------------\n",
      "       no  yes\n",
      "no   7562   53\n",
      "yes   934   90 \n",
      "\n",
      "\n",
      "----------- ACCURACY --------------------------------\n",
      "Accuracy: 0.8857506655862947 \n",
      "\n",
      "\n",
      "----------- CLASSIFICATION REPORT -------------------\n",
      "              precision    recall  f1-score   support\n",
      "\n",
      "           0       0.89      0.99      0.94      7615\n",
      "           1       0.63      0.09      0.15      1024\n",
      "\n",
      "    accuracy                           0.89      8639\n",
      "   macro avg       0.76      0.54      0.55      8639\n",
      "weighted avg       0.86      0.89      0.85      8639\n",
      "\n"
     ]
    }
   ],
   "source": [
    "metrics_model = fit_classifier(sup_vector_poly, X2, y)\n",
    "models_measurements=models_measurements.append([['SVM poly', 'Most relevant variables']+metrics_model])\n"
   ]
  },
  {
   "cell_type": "markdown",
   "metadata": {},
   "source": [
    "### 3.4.3 PCA variables"
   ]
  },
  {
   "cell_type": "code",
   "execution_count": 217,
   "metadata": {},
   "outputs": [
    {
     "name": "stderr",
     "output_type": "stream",
     "text": [
      "C:\\Users\\DELL\\AppData\\Roaming\\Python\\Python37\\site-packages\\imblearn\\under_sampling\\_prototype_selection\\_nearmiss.py:176: UserWarning: The number of the samples to be selected is larger than the number of samples available. The balancing ratio cannot be ensure and all samples will be returned.\n",
      "  \"The number of the samples to be selected is larger\"\n"
     ]
    },
    {
     "name": "stdout",
     "output_type": "stream",
     "text": [
      "----------- CONFUSION MATRIX ------------------------\n",
      "       no  yes\n",
      "no   7485  130\n",
      "yes   844  180 \n",
      "\n",
      "\n",
      "----------- ACCURACY --------------------------------\n",
      "Accuracy: 0.8872554693830305 \n",
      "\n",
      "\n",
      "----------- CLASSIFICATION REPORT -------------------\n",
      "              precision    recall  f1-score   support\n",
      "\n",
      "           0       0.90      0.98      0.94      7615\n",
      "           1       0.58      0.18      0.27      1024\n",
      "\n",
      "    accuracy                           0.89      8639\n",
      "   macro avg       0.74      0.58      0.60      8639\n",
      "weighted avg       0.86      0.89      0.86      8639\n",
      "\n"
     ]
    }
   ],
   "source": [
    "metrics_model = fit_classifier(sup_vector_poly, X3, y)\n",
    "models_measurements=models_measurements.append([['SVM poly', 'PCA variables']+metrics_model])\n"
   ]
  },
  {
   "cell_type": "markdown",
   "metadata": {},
   "source": [
    "## 3.5 Decision tree classifier"
   ]
  },
  {
   "cell_type": "markdown",
   "metadata": {},
   "source": [
    "### 3.5.1 All variables"
   ]
  },
  {
   "cell_type": "code",
   "execution_count": 218,
   "metadata": {},
   "outputs": [
    {
     "name": "stdout",
     "output_type": "stream",
     "text": [
      "----------- CONFUSION MATRIX ------------------------\n",
      "       no   yes\n",
      "no   6124  1491\n",
      "yes   517   507 \n",
      "\n",
      "\n",
      "----------- ACCURACY --------------------------------\n",
      "Accuracy: 0.7675656904734344 \n",
      "\n",
      "\n",
      "----------- CLASSIFICATION REPORT -------------------\n",
      "              precision    recall  f1-score   support\n",
      "\n",
      "           0       0.92      0.80      0.86      7615\n",
      "           1       0.25      0.50      0.34      1024\n",
      "\n",
      "    accuracy                           0.77      8639\n",
      "   macro avg       0.59      0.65      0.60      8639\n",
      "weighted avg       0.84      0.77      0.80      8639\n",
      "\n"
     ]
    },
    {
     "name": "stderr",
     "output_type": "stream",
     "text": [
      "C:\\Users\\DELL\\AppData\\Roaming\\Python\\Python37\\site-packages\\imblearn\\under_sampling\\_prototype_selection\\_nearmiss.py:176: UserWarning: The number of the samples to be selected is larger than the number of samples available. The balancing ratio cannot be ensure and all samples will be returned.\n",
      "  \"The number of the samples to be selected is larger\"\n"
     ]
    }
   ],
   "source": [
    "metrics_model = fit_classifier(decision_tree,X1,y)\n",
    "models_measurements=models_measurements.append([['Decision tree', 'All variables']+metrics_model])\n"
   ]
  },
  {
   "cell_type": "markdown",
   "metadata": {},
   "source": [
    "### 3.5.2 Most relevant variables"
   ]
  },
  {
   "cell_type": "code",
   "execution_count": 219,
   "metadata": {
    "scrolled": true
   },
   "outputs": [
    {
     "name": "stdout",
     "output_type": "stream",
     "text": [
      "----------- CONFUSION MATRIX ------------------------\n",
      "       no  yes\n",
      "no   6983  632\n",
      "yes   648  376 \n",
      "\n",
      "\n",
      "----------- ACCURACY --------------------------------\n",
      "Accuracy: 0.8518347030906355 \n",
      "\n",
      "\n",
      "----------- CLASSIFICATION REPORT -------------------\n",
      "              precision    recall  f1-score   support\n",
      "\n",
      "           0       0.92      0.92      0.92      7615\n",
      "           1       0.37      0.37      0.37      1024\n",
      "\n",
      "    accuracy                           0.85      8639\n",
      "   macro avg       0.64      0.64      0.64      8639\n",
      "weighted avg       0.85      0.85      0.85      8639\n",
      "\n"
     ]
    },
    {
     "name": "stderr",
     "output_type": "stream",
     "text": [
      "C:\\Users\\DELL\\AppData\\Roaming\\Python\\Python37\\site-packages\\imblearn\\under_sampling\\_prototype_selection\\_nearmiss.py:176: UserWarning: The number of the samples to be selected is larger than the number of samples available. The balancing ratio cannot be ensure and all samples will be returned.\n",
      "  \"The number of the samples to be selected is larger\"\n"
     ]
    }
   ],
   "source": [
    "metrics_model = fit_classifier(decision_tree,X2,y)\n",
    "models_measurements=models_measurements.append([['Decision tree', 'Most relevant variables']+metrics_model])\n"
   ]
  },
  {
   "cell_type": "markdown",
   "metadata": {},
   "source": [
    "### 3.5.3 PCA variables"
   ]
  },
  {
   "cell_type": "code",
   "execution_count": 220,
   "metadata": {},
   "outputs": [
    {
     "name": "stderr",
     "output_type": "stream",
     "text": [
      "C:\\Users\\DELL\\AppData\\Roaming\\Python\\Python37\\site-packages\\imblearn\\under_sampling\\_prototype_selection\\_nearmiss.py:176: UserWarning: The number of the samples to be selected is larger than the number of samples available. The balancing ratio cannot be ensure and all samples will be returned.\n",
      "  \"The number of the samples to be selected is larger\"\n"
     ]
    },
    {
     "name": "stdout",
     "output_type": "stream",
     "text": [
      "----------- CONFUSION MATRIX ------------------------\n",
      "       no   yes\n",
      "no   5852  1763\n",
      "yes   533   491 \n",
      "\n",
      "\n",
      "----------- ACCURACY --------------------------------\n",
      "Accuracy: 0.7342284986688274 \n",
      "\n",
      "\n",
      "----------- CLASSIFICATION REPORT -------------------\n",
      "              precision    recall  f1-score   support\n",
      "\n",
      "           0       0.92      0.77      0.84      7615\n",
      "           1       0.22      0.48      0.30      1024\n",
      "\n",
      "    accuracy                           0.73      8639\n",
      "   macro avg       0.57      0.62      0.57      8639\n",
      "weighted avg       0.83      0.73      0.77      8639\n",
      "\n"
     ]
    }
   ],
   "source": [
    "metrics_model = fit_classifier(model,X3,y)\n",
    "models_measurements=models_measurements.append([['Decision tree', 'PCA variables']+metrics_model])\n"
   ]
  },
  {
   "cell_type": "markdown",
   "metadata": {},
   "source": [
    "## 3.6 Random Forest"
   ]
  },
  {
   "cell_type": "markdown",
   "metadata": {},
   "source": [
    "### 3.6.1 All Variables"
   ]
  },
  {
   "cell_type": "code",
   "execution_count": 221,
   "metadata": {},
   "outputs": [
    {
     "name": "stderr",
     "output_type": "stream",
     "text": [
      "C:\\Users\\DELL\\AppData\\Roaming\\Python\\Python37\\site-packages\\imblearn\\under_sampling\\_prototype_selection\\_nearmiss.py:176: UserWarning: The number of the samples to be selected is larger than the number of samples available. The balancing ratio cannot be ensure and all samples will be returned.\n",
      "  \"The number of the samples to be selected is larger\"\n"
     ]
    },
    {
     "name": "stdout",
     "output_type": "stream",
     "text": [
      "----------- CONFUSION MATRIX ------------------------\n",
      "       no  yes\n",
      "no   7232  383\n",
      "yes   528  496 \n",
      "\n",
      "\n",
      "----------- ACCURACY --------------------------------\n",
      "Accuracy: 0.8945479800902882 \n",
      "\n",
      "\n",
      "----------- CLASSIFICATION REPORT -------------------\n",
      "              precision    recall  f1-score   support\n",
      "\n",
      "           0       0.93      0.95      0.94      7615\n",
      "           1       0.56      0.48      0.52      1024\n",
      "\n",
      "    accuracy                           0.89      8639\n",
      "   macro avg       0.75      0.72      0.73      8639\n",
      "weighted avg       0.89      0.89      0.89      8639\n",
      "\n"
     ]
    }
   ],
   "source": [
    "metrics_model = fit_classifier(ran_classifier,X1,y)\n",
    "models_measurements=models_measurements.append([['Random forest', 'All variables']+metrics_model])\n"
   ]
  },
  {
   "cell_type": "markdown",
   "metadata": {},
   "source": [
    "### 3.6.2 Relevant Variable"
   ]
  },
  {
   "cell_type": "code",
   "execution_count": 222,
   "metadata": {},
   "outputs": [
    {
     "name": "stderr",
     "output_type": "stream",
     "text": [
      "C:\\Users\\DELL\\AppData\\Roaming\\Python\\Python37\\site-packages\\imblearn\\under_sampling\\_prototype_selection\\_nearmiss.py:176: UserWarning: The number of the samples to be selected is larger than the number of samples available. The balancing ratio cannot be ensure and all samples will be returned.\n",
      "  \"The number of the samples to be selected is larger\"\n"
     ]
    },
    {
     "name": "stdout",
     "output_type": "stream",
     "text": [
      "----------- CONFUSION MATRIX ------------------------\n",
      "       no  yes\n",
      "no   7107  508\n",
      "yes   616  408 \n",
      "\n",
      "\n",
      "----------- ACCURACY --------------------------------\n",
      "Accuracy: 0.8698923486514643 \n",
      "\n",
      "\n",
      "----------- CLASSIFICATION REPORT -------------------\n",
      "              precision    recall  f1-score   support\n",
      "\n",
      "           0       0.92      0.93      0.93      7615\n",
      "           1       0.45      0.40      0.42      1024\n",
      "\n",
      "    accuracy                           0.87      8639\n",
      "   macro avg       0.68      0.67      0.67      8639\n",
      "weighted avg       0.86      0.87      0.87      8639\n",
      "\n"
     ]
    }
   ],
   "source": [
    "metrics_model = fit_classifier(ran_classifier,X2,y)\n",
    "models_measurements=models_measurements.append([['Random forest', 'Most relevant variables']+metrics_model])\n"
   ]
  },
  {
   "cell_type": "markdown",
   "metadata": {},
   "source": [
    "### 3.6.3 PCA variables"
   ]
  },
  {
   "cell_type": "code",
   "execution_count": 223,
   "metadata": {},
   "outputs": [
    {
     "name": "stderr",
     "output_type": "stream",
     "text": [
      "C:\\Users\\DELL\\AppData\\Roaming\\Python\\Python37\\site-packages\\imblearn\\under_sampling\\_prototype_selection\\_nearmiss.py:176: UserWarning: The number of the samples to be selected is larger than the number of samples available. The balancing ratio cannot be ensure and all samples will be returned.\n",
      "  \"The number of the samples to be selected is larger\"\n"
     ]
    },
    {
     "name": "stdout",
     "output_type": "stream",
     "text": [
      "----------- CONFUSION MATRIX ------------------------\n",
      "       no  yes\n",
      "no   7252  363\n",
      "yes   607  417 \n",
      "\n",
      "\n",
      "----------- ACCURACY --------------------------------\n",
      "Accuracy: 0.8877184859358722 \n",
      "\n",
      "\n",
      "----------- CLASSIFICATION REPORT -------------------\n",
      "              precision    recall  f1-score   support\n",
      "\n",
      "           0       0.92      0.95      0.94      7615\n",
      "           1       0.53      0.41      0.46      1024\n",
      "\n",
      "    accuracy                           0.89      8639\n",
      "   macro avg       0.73      0.68      0.70      8639\n",
      "weighted avg       0.88      0.89      0.88      8639\n",
      "\n"
     ]
    }
   ],
   "source": [
    "metrics_model = fit_classifier(ran_classifier,X3,y)\n",
    "models_measurements=models_measurements.append([['Random forest', 'PCA variables']+metrics_model])\n"
   ]
  },
  {
   "cell_type": "code",
   "execution_count": 224,
   "metadata": {},
   "outputs": [],
   "source": [
    "models_measurements.columns=['Model','Variables','Precision','Recall','F1 Score','Accuracy']"
   ]
  },
  {
   "cell_type": "code",
   "execution_count": 229,
   "metadata": {},
   "outputs": [
    {
     "data": {
      "text/html": [
       "<div>\n",
       "<style scoped>\n",
       "    .dataframe tbody tr th:only-of-type {\n",
       "        vertical-align: middle;\n",
       "    }\n",
       "\n",
       "    .dataframe tbody tr th {\n",
       "        vertical-align: top;\n",
       "    }\n",
       "\n",
       "    .dataframe thead th {\n",
       "        text-align: right;\n",
       "    }\n",
       "</style>\n",
       "<table border=\"1\" class=\"dataframe\">\n",
       "  <thead>\n",
       "    <tr style=\"text-align: right;\">\n",
       "      <th></th>\n",
       "      <th>Model</th>\n",
       "      <th>Variables</th>\n",
       "      <th>Precision</th>\n",
       "      <th>Recall</th>\n",
       "      <th>F1 Score</th>\n",
       "      <th>Accuracy</th>\n",
       "    </tr>\n",
       "  </thead>\n",
       "  <tbody>\n",
       "    <tr>\n",
       "      <th>0</th>\n",
       "      <td>Random forest</td>\n",
       "      <td>All variables</td>\n",
       "      <td>0.564</td>\n",
       "      <td>0.484</td>\n",
       "      <td>0.521</td>\n",
       "      <td>0.895</td>\n",
       "    </tr>\n",
       "    <tr>\n",
       "      <th>1</th>\n",
       "      <td>Random forest</td>\n",
       "      <td>PCA variables</td>\n",
       "      <td>0.535</td>\n",
       "      <td>0.407</td>\n",
       "      <td>0.462</td>\n",
       "      <td>0.888</td>\n",
       "    </tr>\n",
       "    <tr>\n",
       "      <th>2</th>\n",
       "      <td>SVM rbf</td>\n",
       "      <td>All variables</td>\n",
       "      <td>0.611</td>\n",
       "      <td>0.354</td>\n",
       "      <td>0.448</td>\n",
       "      <td>0.897</td>\n",
       "    </tr>\n",
       "    <tr>\n",
       "      <th>3</th>\n",
       "      <td>Random forest</td>\n",
       "      <td>Most relevant variables</td>\n",
       "      <td>0.445</td>\n",
       "      <td>0.398</td>\n",
       "      <td>0.421</td>\n",
       "      <td>0.870</td>\n",
       "    </tr>\n",
       "    <tr>\n",
       "      <th>4</th>\n",
       "      <td>SVM rbf</td>\n",
       "      <td>PCA variables</td>\n",
       "      <td>0.612</td>\n",
       "      <td>0.319</td>\n",
       "      <td>0.420</td>\n",
       "      <td>0.895</td>\n",
       "    </tr>\n",
       "    <tr>\n",
       "      <th>5</th>\n",
       "      <td>SVM rbf</td>\n",
       "      <td>Most relevant variables</td>\n",
       "      <td>0.604</td>\n",
       "      <td>0.303</td>\n",
       "      <td>0.403</td>\n",
       "      <td>0.894</td>\n",
       "    </tr>\n",
       "    <tr>\n",
       "      <th>6</th>\n",
       "      <td>SVM poly</td>\n",
       "      <td>All variables</td>\n",
       "      <td>0.580</td>\n",
       "      <td>0.294</td>\n",
       "      <td>0.390</td>\n",
       "      <td>0.891</td>\n",
       "    </tr>\n",
       "    <tr>\n",
       "      <th>7</th>\n",
       "      <td>Decision tree</td>\n",
       "      <td>Most relevant variables</td>\n",
       "      <td>0.373</td>\n",
       "      <td>0.367</td>\n",
       "      <td>0.370</td>\n",
       "      <td>0.852</td>\n",
       "    </tr>\n",
       "    <tr>\n",
       "      <th>8</th>\n",
       "      <td>Logistic regression</td>\n",
       "      <td>All variables</td>\n",
       "      <td>0.553</td>\n",
       "      <td>0.262</td>\n",
       "      <td>0.355</td>\n",
       "      <td>0.887</td>\n",
       "    </tr>\n",
       "    <tr>\n",
       "      <th>9</th>\n",
       "      <td>Decision tree</td>\n",
       "      <td>All variables</td>\n",
       "      <td>0.254</td>\n",
       "      <td>0.495</td>\n",
       "      <td>0.336</td>\n",
       "      <td>0.768</td>\n",
       "    </tr>\n",
       "    <tr>\n",
       "      <th>10</th>\n",
       "      <td>Logistic regression</td>\n",
       "      <td>PCA variables</td>\n",
       "      <td>0.581</td>\n",
       "      <td>0.229</td>\n",
       "      <td>0.328</td>\n",
       "      <td>0.889</td>\n",
       "    </tr>\n",
       "    <tr>\n",
       "      <th>11</th>\n",
       "      <td>Logistic regression</td>\n",
       "      <td>Most relevant variables</td>\n",
       "      <td>0.598</td>\n",
       "      <td>0.224</td>\n",
       "      <td>0.326</td>\n",
       "      <td>0.890</td>\n",
       "    </tr>\n",
       "    <tr>\n",
       "      <th>12</th>\n",
       "      <td>Decision tree</td>\n",
       "      <td>PCA variables</td>\n",
       "      <td>0.218</td>\n",
       "      <td>0.479</td>\n",
       "      <td>0.300</td>\n",
       "      <td>0.734</td>\n",
       "    </tr>\n",
       "    <tr>\n",
       "      <th>13</th>\n",
       "      <td>SVM poly</td>\n",
       "      <td>PCA variables</td>\n",
       "      <td>0.581</td>\n",
       "      <td>0.176</td>\n",
       "      <td>0.270</td>\n",
       "      <td>0.887</td>\n",
       "    </tr>\n",
       "    <tr>\n",
       "      <th>14</th>\n",
       "      <td>SVM linear</td>\n",
       "      <td>All variables</td>\n",
       "      <td>0.451</td>\n",
       "      <td>0.184</td>\n",
       "      <td>0.261</td>\n",
       "      <td>0.877</td>\n",
       "    </tr>\n",
       "    <tr>\n",
       "      <th>15</th>\n",
       "      <td>SVM linear</td>\n",
       "      <td>PCA variables</td>\n",
       "      <td>0.626</td>\n",
       "      <td>0.126</td>\n",
       "      <td>0.210</td>\n",
       "      <td>0.887</td>\n",
       "    </tr>\n",
       "    <tr>\n",
       "      <th>16</th>\n",
       "      <td>SVM linear</td>\n",
       "      <td>Most relevant variables</td>\n",
       "      <td>0.605</td>\n",
       "      <td>0.090</td>\n",
       "      <td>0.156</td>\n",
       "      <td>0.885</td>\n",
       "    </tr>\n",
       "    <tr>\n",
       "      <th>17</th>\n",
       "      <td>SVM poly</td>\n",
       "      <td>Most relevant variables</td>\n",
       "      <td>0.629</td>\n",
       "      <td>0.088</td>\n",
       "      <td>0.154</td>\n",
       "      <td>0.886</td>\n",
       "    </tr>\n",
       "  </tbody>\n",
       "</table>\n",
       "</div>"
      ],
      "text/plain": [
       "                  Model                Variables  Precision  Recall  F1 Score  \\\n",
       "0         Random forest            All variables      0.564   0.484     0.521   \n",
       "1         Random forest            PCA variables      0.535   0.407     0.462   \n",
       "2               SVM rbf            All variables      0.611   0.354     0.448   \n",
       "3         Random forest  Most relevant variables      0.445   0.398     0.421   \n",
       "4               SVM rbf            PCA variables      0.612   0.319     0.420   \n",
       "5               SVM rbf  Most relevant variables      0.604   0.303     0.403   \n",
       "6              SVM poly            All variables      0.580   0.294     0.390   \n",
       "7         Decision tree  Most relevant variables      0.373   0.367     0.370   \n",
       "8   Logistic regression            All variables      0.553   0.262     0.355   \n",
       "9         Decision tree            All variables      0.254   0.495     0.336   \n",
       "10  Logistic regression            PCA variables      0.581   0.229     0.328   \n",
       "11  Logistic regression  Most relevant variables      0.598   0.224     0.326   \n",
       "12        Decision tree            PCA variables      0.218   0.479     0.300   \n",
       "13             SVM poly            PCA variables      0.581   0.176     0.270   \n",
       "14           SVM linear            All variables      0.451   0.184     0.261   \n",
       "15           SVM linear            PCA variables      0.626   0.126     0.210   \n",
       "16           SVM linear  Most relevant variables      0.605   0.090     0.156   \n",
       "17             SVM poly  Most relevant variables      0.629   0.088     0.154   \n",
       "\n",
       "    Accuracy  \n",
       "0      0.895  \n",
       "1      0.888  \n",
       "2      0.897  \n",
       "3      0.870  \n",
       "4      0.895  \n",
       "5      0.894  \n",
       "6      0.891  \n",
       "7      0.852  \n",
       "8      0.887  \n",
       "9      0.768  \n",
       "10     0.889  \n",
       "11     0.890  \n",
       "12     0.734  \n",
       "13     0.887  \n",
       "14     0.877  \n",
       "15     0.887  \n",
       "16     0.885  \n",
       "17     0.886  "
      ]
     },
     "execution_count": 229,
     "metadata": {},
     "output_type": "execute_result"
    }
   ],
   "source": [
    "#Measurements sorted by F1 score\n",
    "models_measurements=models_measurements.sort_values(by=['F1 Score'],ascending = False).reset_index(drop=True)\n",
    "models_measurements"
   ]
  },
  {
   "cell_type": "code",
   "execution_count": 232,
   "metadata": {},
   "outputs": [
    {
     "data": {
      "text/html": [
       "<div>\n",
       "<style scoped>\n",
       "    .dataframe tbody tr th:only-of-type {\n",
       "        vertical-align: middle;\n",
       "    }\n",
       "\n",
       "    .dataframe tbody tr th {\n",
       "        vertical-align: top;\n",
       "    }\n",
       "\n",
       "    .dataframe thead th {\n",
       "        text-align: right;\n",
       "    }\n",
       "</style>\n",
       "<table border=\"1\" class=\"dataframe\">\n",
       "  <thead>\n",
       "    <tr style=\"text-align: right;\">\n",
       "      <th></th>\n",
       "      <th>Model</th>\n",
       "      <th>Variables</th>\n",
       "      <th>Precision</th>\n",
       "      <th>Recall</th>\n",
       "      <th>F1 Score</th>\n",
       "      <th>Accuracy</th>\n",
       "    </tr>\n",
       "  </thead>\n",
       "  <tbody>\n",
       "    <tr>\n",
       "      <th>2</th>\n",
       "      <td>SVM rbf</td>\n",
       "      <td>All variables</td>\n",
       "      <td>0.611</td>\n",
       "      <td>0.354</td>\n",
       "      <td>0.448</td>\n",
       "      <td>0.897</td>\n",
       "    </tr>\n",
       "    <tr>\n",
       "      <th>0</th>\n",
       "      <td>Random forest</td>\n",
       "      <td>All variables</td>\n",
       "      <td>0.564</td>\n",
       "      <td>0.484</td>\n",
       "      <td>0.521</td>\n",
       "      <td>0.895</td>\n",
       "    </tr>\n",
       "    <tr>\n",
       "      <th>4</th>\n",
       "      <td>SVM rbf</td>\n",
       "      <td>PCA variables</td>\n",
       "      <td>0.612</td>\n",
       "      <td>0.319</td>\n",
       "      <td>0.420</td>\n",
       "      <td>0.895</td>\n",
       "    </tr>\n",
       "    <tr>\n",
       "      <th>5</th>\n",
       "      <td>SVM rbf</td>\n",
       "      <td>Most relevant variables</td>\n",
       "      <td>0.604</td>\n",
       "      <td>0.303</td>\n",
       "      <td>0.403</td>\n",
       "      <td>0.894</td>\n",
       "    </tr>\n",
       "    <tr>\n",
       "      <th>6</th>\n",
       "      <td>SVM poly</td>\n",
       "      <td>All variables</td>\n",
       "      <td>0.580</td>\n",
       "      <td>0.294</td>\n",
       "      <td>0.390</td>\n",
       "      <td>0.891</td>\n",
       "    </tr>\n",
       "    <tr>\n",
       "      <th>11</th>\n",
       "      <td>Logistic regression</td>\n",
       "      <td>Most relevant variables</td>\n",
       "      <td>0.598</td>\n",
       "      <td>0.224</td>\n",
       "      <td>0.326</td>\n",
       "      <td>0.890</td>\n",
       "    </tr>\n",
       "    <tr>\n",
       "      <th>10</th>\n",
       "      <td>Logistic regression</td>\n",
       "      <td>PCA variables</td>\n",
       "      <td>0.581</td>\n",
       "      <td>0.229</td>\n",
       "      <td>0.328</td>\n",
       "      <td>0.889</td>\n",
       "    </tr>\n",
       "    <tr>\n",
       "      <th>1</th>\n",
       "      <td>Random forest</td>\n",
       "      <td>PCA variables</td>\n",
       "      <td>0.535</td>\n",
       "      <td>0.407</td>\n",
       "      <td>0.462</td>\n",
       "      <td>0.888</td>\n",
       "    </tr>\n",
       "    <tr>\n",
       "      <th>15</th>\n",
       "      <td>SVM linear</td>\n",
       "      <td>PCA variables</td>\n",
       "      <td>0.626</td>\n",
       "      <td>0.126</td>\n",
       "      <td>0.210</td>\n",
       "      <td>0.887</td>\n",
       "    </tr>\n",
       "    <tr>\n",
       "      <th>13</th>\n",
       "      <td>SVM poly</td>\n",
       "      <td>PCA variables</td>\n",
       "      <td>0.581</td>\n",
       "      <td>0.176</td>\n",
       "      <td>0.270</td>\n",
       "      <td>0.887</td>\n",
       "    </tr>\n",
       "    <tr>\n",
       "      <th>8</th>\n",
       "      <td>Logistic regression</td>\n",
       "      <td>All variables</td>\n",
       "      <td>0.553</td>\n",
       "      <td>0.262</td>\n",
       "      <td>0.355</td>\n",
       "      <td>0.887</td>\n",
       "    </tr>\n",
       "    <tr>\n",
       "      <th>17</th>\n",
       "      <td>SVM poly</td>\n",
       "      <td>Most relevant variables</td>\n",
       "      <td>0.629</td>\n",
       "      <td>0.088</td>\n",
       "      <td>0.154</td>\n",
       "      <td>0.886</td>\n",
       "    </tr>\n",
       "    <tr>\n",
       "      <th>16</th>\n",
       "      <td>SVM linear</td>\n",
       "      <td>Most relevant variables</td>\n",
       "      <td>0.605</td>\n",
       "      <td>0.090</td>\n",
       "      <td>0.156</td>\n",
       "      <td>0.885</td>\n",
       "    </tr>\n",
       "    <tr>\n",
       "      <th>14</th>\n",
       "      <td>SVM linear</td>\n",
       "      <td>All variables</td>\n",
       "      <td>0.451</td>\n",
       "      <td>0.184</td>\n",
       "      <td>0.261</td>\n",
       "      <td>0.877</td>\n",
       "    </tr>\n",
       "    <tr>\n",
       "      <th>3</th>\n",
       "      <td>Random forest</td>\n",
       "      <td>Most relevant variables</td>\n",
       "      <td>0.445</td>\n",
       "      <td>0.398</td>\n",
       "      <td>0.421</td>\n",
       "      <td>0.870</td>\n",
       "    </tr>\n",
       "    <tr>\n",
       "      <th>7</th>\n",
       "      <td>Decision tree</td>\n",
       "      <td>Most relevant variables</td>\n",
       "      <td>0.373</td>\n",
       "      <td>0.367</td>\n",
       "      <td>0.370</td>\n",
       "      <td>0.852</td>\n",
       "    </tr>\n",
       "    <tr>\n",
       "      <th>9</th>\n",
       "      <td>Decision tree</td>\n",
       "      <td>All variables</td>\n",
       "      <td>0.254</td>\n",
       "      <td>0.495</td>\n",
       "      <td>0.336</td>\n",
       "      <td>0.768</td>\n",
       "    </tr>\n",
       "    <tr>\n",
       "      <th>12</th>\n",
       "      <td>Decision tree</td>\n",
       "      <td>PCA variables</td>\n",
       "      <td>0.218</td>\n",
       "      <td>0.479</td>\n",
       "      <td>0.300</td>\n",
       "      <td>0.734</td>\n",
       "    </tr>\n",
       "  </tbody>\n",
       "</table>\n",
       "</div>"
      ],
      "text/plain": [
       "                  Model                Variables  Precision  Recall  F1 Score  \\\n",
       "2               SVM rbf            All variables      0.611   0.354     0.448   \n",
       "0         Random forest            All variables      0.564   0.484     0.521   \n",
       "4               SVM rbf            PCA variables      0.612   0.319     0.420   \n",
       "5               SVM rbf  Most relevant variables      0.604   0.303     0.403   \n",
       "6              SVM poly            All variables      0.580   0.294     0.390   \n",
       "11  Logistic regression  Most relevant variables      0.598   0.224     0.326   \n",
       "10  Logistic regression            PCA variables      0.581   0.229     0.328   \n",
       "1         Random forest            PCA variables      0.535   0.407     0.462   \n",
       "15           SVM linear            PCA variables      0.626   0.126     0.210   \n",
       "13             SVM poly            PCA variables      0.581   0.176     0.270   \n",
       "8   Logistic regression            All variables      0.553   0.262     0.355   \n",
       "17             SVM poly  Most relevant variables      0.629   0.088     0.154   \n",
       "16           SVM linear  Most relevant variables      0.605   0.090     0.156   \n",
       "14           SVM linear            All variables      0.451   0.184     0.261   \n",
       "3         Random forest  Most relevant variables      0.445   0.398     0.421   \n",
       "7         Decision tree  Most relevant variables      0.373   0.367     0.370   \n",
       "9         Decision tree            All variables      0.254   0.495     0.336   \n",
       "12        Decision tree            PCA variables      0.218   0.479     0.300   \n",
       "\n",
       "    Accuracy  \n",
       "2      0.897  \n",
       "0      0.895  \n",
       "4      0.895  \n",
       "5      0.894  \n",
       "6      0.891  \n",
       "11     0.890  \n",
       "10     0.889  \n",
       "1      0.888  \n",
       "15     0.887  \n",
       "13     0.887  \n",
       "8      0.887  \n",
       "17     0.886  \n",
       "16     0.885  \n",
       "14     0.877  \n",
       "3      0.870  \n",
       "7      0.852  \n",
       "9      0.768  \n",
       "12     0.734  "
      ]
     },
     "execution_count": 232,
     "metadata": {},
     "output_type": "execute_result"
    }
   ],
   "source": [
    "#Sorted by accuracy\n",
    "models_measurements.sort_values(by=['Accuracy'],ascending = False)"
   ]
  }
 ],
 "metadata": {
  "kernelspec": {
   "display_name": "Python 3",
   "language": "python",
   "name": "python3"
  },
  "language_info": {
   "codemirror_mode": {
    "name": "ipython",
    "version": 3
   },
   "file_extension": ".py",
   "mimetype": "text/x-python",
   "name": "python",
   "nbconvert_exporter": "python",
   "pygments_lexer": "ipython3",
   "version": "3.7.6"
  }
 },
 "nbformat": 4,
 "nbformat_minor": 4
}
